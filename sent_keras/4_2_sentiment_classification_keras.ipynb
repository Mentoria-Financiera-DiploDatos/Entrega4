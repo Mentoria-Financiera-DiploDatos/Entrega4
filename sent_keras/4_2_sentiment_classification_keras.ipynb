{
  "nbformat": 4,
  "nbformat_minor": 0,
  "metadata": {
    "colab": {
      "name": "4_2_sentiment_classification_keras.ipynb",
      "provenance": []
    },
    "kernelspec": {
      "name": "python3",
      "display_name": "Python 3"
    }
  },
  "cells": [
    {
      "cell_type": "markdown",
      "metadata": {
        "id": "u9TmpgziZ93p"
      },
      "source": [
        "##4.2 - Sentiment text classification using keras with LSTM"
      ]
    },
    {
      "cell_type": "code",
      "metadata": {
        "id": "M-GtyC-MveAN",
        "colab": {
          "base_uri": "https://localhost:8080/",
          "height": 161
        },
        "outputId": "34e670d4-e231-4aac-bbfa-02eb9b79b15f"
      },
      "source": [
        "import pandas as pd\n",
        "\n",
        "df = pd.read_csv(\"https://raw.githubusercontent.com/Mentoria-Financiera-DiploDatos/Entrega3/master/sentimientos/data/feeling_procesado.csv\")\n",
        "print(df.news.size)\n",
        "df.head(3)"
      ],
      "execution_count": 704,
      "outputs": [
        {
          "output_type": "stream",
          "name": "stdout",
          "text": [
            "4838\n"
          ]
        },
        {
          "output_type": "execute_result",
          "data": {
            "text/html": [
              "<div>\n",
              "<style scoped>\n",
              "    .dataframe tbody tr th:only-of-type {\n",
              "        vertical-align: middle;\n",
              "    }\n",
              "\n",
              "    .dataframe tbody tr th {\n",
              "        vertical-align: top;\n",
              "    }\n",
              "\n",
              "    .dataframe thead th {\n",
              "        text-align: right;\n",
              "    }\n",
              "</style>\n",
              "<table border=\"1\" class=\"dataframe\">\n",
              "  <thead>\n",
              "    <tr style=\"text-align: right;\">\n",
              "      <th></th>\n",
              "      <th>Unnamed: 0</th>\n",
              "      <th>feeling</th>\n",
              "      <th>news</th>\n",
              "      <th>news_tokens</th>\n",
              "      <th>news_tokens_tagged</th>\n",
              "    </tr>\n",
              "  </thead>\n",
              "  <tbody>\n",
              "    <tr>\n",
              "      <th>0</th>\n",
              "      <td>0</td>\n",
              "      <td>neutral</td>\n",
              "      <td>According to Gran , the company has no plans t...</td>\n",
              "      <td>['accord', 'gran', 'company', 'plan', 'move', ...</td>\n",
              "      <td>[('accord', 'NN'), ('gran', 'VBD'), ('company'...</td>\n",
              "    </tr>\n",
              "    <tr>\n",
              "      <th>1</th>\n",
              "      <td>1</td>\n",
              "      <td>neutral</td>\n",
              "      <td>Technopolis plans to develop in stages an area...</td>\n",
              "      <td>['technopolis', 'plan', 'develop', 'stage', 'a...</td>\n",
              "      <td>[('technopolis', 'NN'), ('plan', 'NN'), ('deve...</td>\n",
              "    </tr>\n",
              "    <tr>\n",
              "      <th>2</th>\n",
              "      <td>2</td>\n",
              "      <td>negative</td>\n",
              "      <td>The international electronic industry company ...</td>\n",
              "      <td>['international', 'electronic', 'industry', 'c...</td>\n",
              "      <td>[('international', 'JJ'), ('electronic', 'JJ')...</td>\n",
              "    </tr>\n",
              "  </tbody>\n",
              "</table>\n",
              "</div>"
            ],
            "text/plain": [
              "   Unnamed: 0  ...                                 news_tokens_tagged\n",
              "0           0  ...  [('accord', 'NN'), ('gran', 'VBD'), ('company'...\n",
              "1           1  ...  [('technopolis', 'NN'), ('plan', 'NN'), ('deve...\n",
              "2           2  ...  [('international', 'JJ'), ('electronic', 'JJ')...\n",
              "\n",
              "[3 rows x 5 columns]"
            ]
          },
          "metadata": {},
          "execution_count": 704
        }
      ]
    },
    {
      "cell_type": "markdown",
      "metadata": {
        "id": "jWyjBRd2pNW-"
      },
      "source": [
        "A continuación generamos una columna `news_tokens_str` que tiene las noticias con el texto preprocesado pero en string para luego cargarlas de esta forma que resulta conveniente."
      ]
    },
    {
      "cell_type": "code",
      "metadata": {
        "colab": {
          "base_uri": "https://localhost:8080/",
          "height": 35
        },
        "id": "5HXpDTaoFH8V",
        "outputId": "51c9d821-8199-4d4e-f97b-e936891eee80"
      },
      "source": [
        "df.news_tokens.values[0].split()[0].replace(\"[\", '').replace(\"]\", '').replace(\"'\", '').replace(\",\", '')"
      ],
      "execution_count": 705,
      "outputs": [
        {
          "output_type": "execute_result",
          "data": {
            "application/vnd.google.colaboratory.intrinsic+json": {
              "type": "string"
            },
            "text/plain": [
              "'accord'"
            ]
          },
          "metadata": {},
          "execution_count": 705
        }
      ]
    },
    {
      "cell_type": "code",
      "metadata": {
        "id": "AJkIFCq6EfLX"
      },
      "source": [
        "df['news_tokens_str'] = df.news\n",
        "for i in range(df.news_tokens.size):\n",
        "    temp_list = df.news_tokens[i].split()\n",
        "    temp_str = \"\"\n",
        "    for j in temp_list:\n",
        "        temp_str += j.replace(\"[\", '').replace(\"]\", '').replace(\"'\", '').replace(\",\", ' ')\n",
        "    df.news_tokens_str.values[i] = temp_str"
      ],
      "execution_count": 706,
      "outputs": []
    },
    {
      "cell_type": "code",
      "metadata": {
        "colab": {
          "base_uri": "https://localhost:8080/",
          "height": 213
        },
        "id": "HAayWyLpNi5O",
        "outputId": "34689057-a56f-4c14-8edd-04ebdc00e5ea"
      },
      "source": [
        "df.head(3)"
      ],
      "execution_count": 707,
      "outputs": [
        {
          "output_type": "execute_result",
          "data": {
            "text/html": [
              "<div>\n",
              "<style scoped>\n",
              "    .dataframe tbody tr th:only-of-type {\n",
              "        vertical-align: middle;\n",
              "    }\n",
              "\n",
              "    .dataframe tbody tr th {\n",
              "        vertical-align: top;\n",
              "    }\n",
              "\n",
              "    .dataframe thead th {\n",
              "        text-align: right;\n",
              "    }\n",
              "</style>\n",
              "<table border=\"1\" class=\"dataframe\">\n",
              "  <thead>\n",
              "    <tr style=\"text-align: right;\">\n",
              "      <th></th>\n",
              "      <th>Unnamed: 0</th>\n",
              "      <th>feeling</th>\n",
              "      <th>news</th>\n",
              "      <th>news_tokens</th>\n",
              "      <th>news_tokens_tagged</th>\n",
              "      <th>news_tokens_str</th>\n",
              "    </tr>\n",
              "  </thead>\n",
              "  <tbody>\n",
              "    <tr>\n",
              "      <th>0</th>\n",
              "      <td>0</td>\n",
              "      <td>neutral</td>\n",
              "      <td>According to Gran , the company has no plans t...</td>\n",
              "      <td>['accord', 'gran', 'company', 'plan', 'move', ...</td>\n",
              "      <td>[('accord', 'NN'), ('gran', 'VBD'), ('company'...</td>\n",
              "      <td>accord gran company plan move production russi...</td>\n",
              "    </tr>\n",
              "    <tr>\n",
              "      <th>1</th>\n",
              "      <td>1</td>\n",
              "      <td>neutral</td>\n",
              "      <td>Technopolis plans to develop in stages an area...</td>\n",
              "      <td>['technopolis', 'plan', 'develop', 'stage', 'a...</td>\n",
              "      <td>[('technopolis', 'NN'), ('plan', 'NN'), ('deve...</td>\n",
              "      <td>technopolis plan develop stage area le square ...</td>\n",
              "    </tr>\n",
              "    <tr>\n",
              "      <th>2</th>\n",
              "      <td>2</td>\n",
              "      <td>negative</td>\n",
              "      <td>The international electronic industry company ...</td>\n",
              "      <td>['international', 'electronic', 'industry', 'c...</td>\n",
              "      <td>[('international', 'JJ'), ('electronic', 'JJ')...</td>\n",
              "      <td>international electronic industry company elco...</td>\n",
              "    </tr>\n",
              "  </tbody>\n",
              "</table>\n",
              "</div>"
            ],
            "text/plain": [
              "   Unnamed: 0  ...                                    news_tokens_str\n",
              "0           0  ...  accord gran company plan move production russi...\n",
              "1           1  ...  technopolis plan develop stage area le square ...\n",
              "2           2  ...  international electronic industry company elco...\n",
              "\n",
              "[3 rows x 6 columns]"
            ]
          },
          "metadata": {},
          "execution_count": 707
        }
      ]
    },
    {
      "cell_type": "code",
      "metadata": {
        "id": "QppGtSAGwVmR",
        "colab": {
          "base_uri": "https://localhost:8080/",
          "height": 363
        },
        "outputId": "a35597e6-c406-408e-9a0d-8dadfe0952f3"
      },
      "source": [
        "# Select relavant columns\n",
        "news_df = df[['news_tokens_str','feeling']]\n",
        "news_df.head(10)"
      ],
      "execution_count": 708,
      "outputs": [
        {
          "output_type": "execute_result",
          "data": {
            "text/html": [
              "<div>\n",
              "<style scoped>\n",
              "    .dataframe tbody tr th:only-of-type {\n",
              "        vertical-align: middle;\n",
              "    }\n",
              "\n",
              "    .dataframe tbody tr th {\n",
              "        vertical-align: top;\n",
              "    }\n",
              "\n",
              "    .dataframe thead th {\n",
              "        text-align: right;\n",
              "    }\n",
              "</style>\n",
              "<table border=\"1\" class=\"dataframe\">\n",
              "  <thead>\n",
              "    <tr style=\"text-align: right;\">\n",
              "      <th></th>\n",
              "      <th>news_tokens_str</th>\n",
              "      <th>feeling</th>\n",
              "    </tr>\n",
              "  </thead>\n",
              "  <tbody>\n",
              "    <tr>\n",
              "      <th>0</th>\n",
              "      <td>accord gran company plan move production russi...</td>\n",
              "      <td>neutral</td>\n",
              "    </tr>\n",
              "    <tr>\n",
              "      <th>1</th>\n",
              "      <td>technopolis plan develop stage area le square ...</td>\n",
              "      <td>neutral</td>\n",
              "    </tr>\n",
              "    <tr>\n",
              "      <th>2</th>\n",
              "      <td>international electronic industry company elco...</td>\n",
              "      <td>negative</td>\n",
              "    </tr>\n",
              "    <tr>\n",
              "      <th>3</th>\n",
              "      <td>new production plant company would increase ca...</td>\n",
              "      <td>positive</td>\n",
              "    </tr>\n",
              "    <tr>\n",
              "      <th>4</th>\n",
              "      <td>accord company update strategy year basware ta...</td>\n",
              "      <td>positive</td>\n",
              "    </tr>\n",
              "    <tr>\n",
              "      <th>5</th>\n",
              "      <td>finance aspocomp growth aspocomp aggressively ...</td>\n",
              "      <td>positive</td>\n",
              "    </tr>\n",
              "    <tr>\n",
              "      <th>6</th>\n",
              "      <td>last quarter componenta net sale double eurm e...</td>\n",
              "      <td>positive</td>\n",
              "    </tr>\n",
              "    <tr>\n",
              "      <th>7</th>\n",
              "      <td>third quarter net sale increase eur mn operate...</td>\n",
              "      <td>positive</td>\n",
              "    </tr>\n",
              "    <tr>\n",
              "      <th>8</th>\n",
              "      <td>operate profit rise eur mn eur mn correspond p...</td>\n",
              "      <td>positive</td>\n",
              "    </tr>\n",
              "    <tr>\n",
              "      <th>9</th>\n",
              "      <td>operate profit total eur mn eur mn represent n...</td>\n",
              "      <td>positive</td>\n",
              "    </tr>\n",
              "  </tbody>\n",
              "</table>\n",
              "</div>"
            ],
            "text/plain": [
              "                                     news_tokens_str   feeling\n",
              "0  accord gran company plan move production russi...   neutral\n",
              "1  technopolis plan develop stage area le square ...   neutral\n",
              "2  international electronic industry company elco...  negative\n",
              "3  new production plant company would increase ca...  positive\n",
              "4  accord company update strategy year basware ta...  positive\n",
              "5  finance aspocomp growth aspocomp aggressively ...  positive\n",
              "6  last quarter componenta net sale double eurm e...  positive\n",
              "7  third quarter net sale increase eur mn operate...  positive\n",
              "8  operate profit rise eur mn eur mn correspond p...  positive\n",
              "9  operate profit total eur mn eur mn represent n...  positive"
            ]
          },
          "metadata": {},
          "execution_count": 708
        }
      ]
    },
    {
      "cell_type": "markdown",
      "metadata": {
        "id": "IT1gtucG_fXG"
      },
      "source": [
        "Se desordena el dataset de forma aleatoria con la función sample, ya que observamos que los sentimientos de las noticias se encuentran muy agrupados y esto vimos que luego afecta negativamente a la hora de entrenar el modelo."
      ]
    },
    {
      "cell_type": "code",
      "metadata": {
        "id": "RTDdCXJ2wkzL",
        "colab": {
          "base_uri": "https://localhost:8080/",
          "height": 380
        },
        "outputId": "372b65f7-3254-4c26-b989-5605410c332d"
      },
      "source": [
        "# No tenemos en cuenta las noticias etiquetadas como neutrales\n",
        "news_df = news_df[news_df['feeling'] != 'neutral'].reset_index(drop=True)\n",
        "\n",
        "# Mezclamos con sample ya que los sentimientos están bastante agrupados en el\n",
        "#  dataset y esto genera problemas luego a la hora de entrenar el modelo.\n",
        "news_df = news_df.sample(frac=1).reset_index(drop=True)\n",
        "print(news_df.feeling.size)\n",
        "news_df.head(10)"
      ],
      "execution_count": 709,
      "outputs": [
        {
          "output_type": "stream",
          "name": "stdout",
          "text": [
            "1966\n"
          ]
        },
        {
          "output_type": "execute_result",
          "data": {
            "text/html": [
              "<div>\n",
              "<style scoped>\n",
              "    .dataframe tbody tr th:only-of-type {\n",
              "        vertical-align: middle;\n",
              "    }\n",
              "\n",
              "    .dataframe tbody tr th {\n",
              "        vertical-align: top;\n",
              "    }\n",
              "\n",
              "    .dataframe thead th {\n",
              "        text-align: right;\n",
              "    }\n",
              "</style>\n",
              "<table border=\"1\" class=\"dataframe\">\n",
              "  <thead>\n",
              "    <tr style=\"text-align: right;\">\n",
              "      <th></th>\n",
              "      <th>news_tokens_str</th>\n",
              "      <th>feeling</th>\n",
              "    </tr>\n",
              "  </thead>\n",
              "  <tbody>\n",
              "    <tr>\n",
              "      <th>0</th>\n",
              "      <td>close omx helsinki pct low point omx helsinki ...</td>\n",
              "      <td>negative</td>\n",
              "    </tr>\n",
              "    <tr>\n",
              "      <th>1</th>\n",
              "      <td>finnish silicon wafer manufacturer okmetic oyj...</td>\n",
              "      <td>positive</td>\n",
              "    </tr>\n",
              "    <tr>\n",
              "      <th>2</th>\n",
              "      <td>separate side business able fast expand develo...</td>\n",
              "      <td>positive</td>\n",
              "    </tr>\n",
              "    <tr>\n",
              "      <th>3</th>\n",
              "      <td>operate profit decrease eur mn eur mn</td>\n",
              "      <td>negative</td>\n",
              "    </tr>\n",
              "    <tr>\n",
              "      <th>4</th>\n",
              "      <td>beyond improve voice capability customer strea...</td>\n",
              "      <td>positive</td>\n",
              "    </tr>\n",
              "    <tr>\n",
              "      <th>5</th>\n",
              "      <td>raisio division record operate profit</td>\n",
              "      <td>positive</td>\n",
              "    </tr>\n",
              "    <tr>\n",
              "      <th>6</th>\n",
              "      <td>shop center prime location right next myllypur...</td>\n",
              "      <td>positive</td>\n",
              "    </tr>\n",
              "    <tr>\n",
              "      <th>7</th>\n",
              "      <td>eps improve eur eur</td>\n",
              "      <td>positive</td>\n",
              "    </tr>\n",
              "    <tr>\n",
              "      <th>8</th>\n",
              "      <td>poyry recognize one world lead advisor global ...</td>\n",
              "      <td>positive</td>\n",
              "    </tr>\n",
              "    <tr>\n",
              "      <th>9</th>\n",
              "      <td>metal gain percent year demand china world lar...</td>\n",
              "      <td>positive</td>\n",
              "    </tr>\n",
              "  </tbody>\n",
              "</table>\n",
              "</div>"
            ],
            "text/plain": [
              "                                     news_tokens_str   feeling\n",
              "0  close omx helsinki pct low point omx helsinki ...  negative\n",
              "1  finnish silicon wafer manufacturer okmetic oyj...  positive\n",
              "2  separate side business able fast expand develo...  positive\n",
              "3              operate profit decrease eur mn eur mn  negative\n",
              "4  beyond improve voice capability customer strea...  positive\n",
              "5              raisio division record operate profit  positive\n",
              "6  shop center prime location right next myllypur...  positive\n",
              "7                                eps improve eur eur  positive\n",
              "8  poyry recognize one world lead advisor global ...  positive\n",
              "9  metal gain percent year demand china world lar...  positive"
            ]
          },
          "metadata": {},
          "execution_count": 709
        }
      ]
    },
    {
      "cell_type": "code",
      "metadata": {
        "id": "ctHsKPkPwuPO",
        "colab": {
          "base_uri": "https://localhost:8080/"
        },
        "outputId": "73c6dcd5-e4cf-4a8a-9320-e2902fb7306c"
      },
      "source": [
        "# Convert feeling to numeric\n",
        "sentiment_label = news_df.feeling.factorize()\n",
        "sentiment_label"
      ],
      "execution_count": 710,
      "outputs": [
        {
          "output_type": "execute_result",
          "data": {
            "text/plain": [
              "(array([0, 1, 1, ..., 0, 1, 1]),\n",
              " Index(['negative', 'positive'], dtype='object'))"
            ]
          },
          "metadata": {},
          "execution_count": 710
        }
      ]
    },
    {
      "cell_type": "markdown",
      "metadata": {
        "id": "FYbRfnn82mKV"
      },
      "source": [
        "Utilizamos un maxlen de 40 ya que con los textos preprocesados la noticia con más palabras tiene 38 palabras."
      ]
    },
    {
      "cell_type": "code",
      "metadata": {
        "id": "W7Y54Xm3w7As"
      },
      "source": [
        "from tensorflow.keras.preprocessing.text import Tokenizer\n",
        "from tensorflow.keras.preprocessing.sequence import pad_sequences\n",
        "\n",
        "news = news_df.news_tokens_str.values\n",
        "tokenizer = Tokenizer(num_words=5000)\n",
        "tokenizer.fit_on_texts(news)\n",
        "vocab_size = len(tokenizer.word_index) + 1\n",
        "encoded_docs = tokenizer.texts_to_sequences(news)\n",
        "padded_sequence = pad_sequences(encoded_docs, maxlen=40)"
      ],
      "execution_count": 711,
      "outputs": []
    },
    {
      "cell_type": "code",
      "metadata": {
        "id": "NTauImgkrAPz",
        "colab": {
          "base_uri": "https://localhost:8080/"
        },
        "outputId": "7633fdc5-5aba-43d4-bd2e-e16c2337ed0f"
      },
      "source": [
        "print(vocab_size)\n",
        "# 4082 palabras con las noticias preprocesadas\n",
        "# 5535 palabras con las noticias sin el preprocesado"
      ],
      "execution_count": 712,
      "outputs": [
        {
          "output_type": "stream",
          "name": "stdout",
          "text": [
            "4082\n"
          ]
        }
      ]
    },
    {
      "cell_type": "code",
      "metadata": {
        "id": "n3BYtc6xxE8T",
        "colab": {
          "base_uri": "https://localhost:8080/"
        },
        "outputId": "c58523bd-be01-440a-d5ab-d75e41facb95"
      },
      "source": [
        "print(tokenizer.word_index)"
      ],
      "execution_count": 713,
      "outputs": [
        {
          "output_type": "stream",
          "name": "stdout",
          "text": [
            "{'eur': 1, 'mn': 2, 'company': 3, 'profit': 4, 'say': 5, 'sale': 6, 'net': 7, 'finnish': 8, 'million': 9, 'year': 10, 'period': 11, 'operate': 12, 'mln': 13, 'quarter': 14, 'increase': 15, 'oyj': 16, 'loss': 17, 'euro': 18, 'compare': 19, 'group': 20, 'share': 21, 'first': 22, 'total': 23, 'finland': 24, 'rise': 25, 'market': 26, 'service': 27, 'correspond': 28, 'today': 29, 'new': 30, 'percent': 31, 'contract': 32, 'decrease': 33, 'business': 34, 'also': 35, 'hel': 36, 'order': 37, 'result': 38, 'operation': 39, 'per': 40, 'solution': 41, 'technology': 42, 'report': 43, 'early': 44, 'helsinki': 45, 'month': 46, 'expect': 47, 'agreement': 48, 'product': 49, 'sign': 50, 'bank': 51, 'eurm': 52, 'pct': 53, 'third': 54, 'maker': 55, 'system': 56, 'last': 57, 'u': 58, 'price': 59, 'omx': 60, 'usd': 61, 'second': 62, 'grow': 63, 'estimate': 64, 'customer': 65, 'fell': 66, 'nokia': 67, 'low': 68, 'mobile': 69, 'corporation': 70, 'growth': 71, 'financial': 72, 'cost': 73, 'earn': 74, 'plant': 75, 'accord': 76, 'make': 77, 'production': 78, 'continue': 79, 'half': 80, 'improve': 81, 'paper': 82, 'eps': 83, 'network': 84, 'project': 85, 'investment': 86, 'end': 87, 'unit': 88, 'line': 89, 'supply': 90, 'plan': 91, 'pretax': 92, 'revenue': 93, 'nine': 94, 'provide': 95, 'industry': 96, 'large': 97, 'russia': 98, 'award': 99, 'billion': 100, 'stock': 101, 'amount': 102, 'expand': 103, 'lead': 104, 'yearonyear': 105, 'high': 106, 'equipment': 107, 'manufacturer': 108, 'construction': 109, 'news': 110, 'management': 111, 'offer': 112, 'would': 113, 'however': 114, 'cut': 115, 'one': 116, 'acquisition': 117, 'steel': 118, 'two': 119, 'process': 120, 'strong': 121, 'good': 122, 'provider': 123, 'aim': 124, 'demand': 125, 'go': 126, 'announce': 127, 'item': 128, 'use': 129, 'include': 130, 'employee': 131, 'area': 132, 'strengthen': 133, 'build': 134, 'software': 135, 'september': 136, 'ceo': 137, 'well': 138, 'capital': 139, 'director': 140, 'cash': 141, 'hold': 142, 'release': 143, 'manufacture': 144, 'start': 145, 'positive': 146, 'cooperation': 147, 'save': 148, 'due': 149, 'close': 150, 'target': 151, 'supplier': 152, 'october': 153, 'time': 154, 'number': 155, 'handle': 156, 'adp': 157, 'country': 158, 'develop': 159, 'global': 160, 'base': 161, 'machinery': 162, 'significant': 163, 'volume': 164, 'trade': 165, 'ruukki': 166, 'finnair': 167, 'china': 168, 'drop': 169, 'developer': 170, 'lay': 171, 'deliver': 172, 'exclude': 173, 'capacity': 174, 'value': 175, 'previous': 176, 'nonrecurring': 177, 'stora': 178, 'ltd': 179, 'work': 180, 'add': 181, 'post': 182, 'communication': 183, 'sector': 184, 'tax': 185, 'ago': 186, 'fourth': 187, 'respectively': 188, 'passenger': 189, 'subsidiary': 190, 'may': 191, 'give': 192, 'current': 193, 'engineer': 194, 'electronics': 195, 'negotiation': 196, 'people': 197, 'level': 198, 'phone': 199, 'november': 200, 'baltic': 201, 'versus': 202, 'flow': 203, 'part': 204, 'turnover': 205, 'world': 206, 'metal': 207, 'enso': 208, 'measure': 209, 'income': 210, 'personnel': 211, 'staff': 212, 'deal': 213, 'layoff': 214, 'sell': 215, 'annual': 216, 'february': 217, 'performance': 218, 'margin': 219, 'point': 220, 'record': 221, 'food': 222, 'narrow': 223, 'position': 224, 'interest': 225, 'liter': 226, 'august': 227, 'elcoteq': 228, 'receive': 229, 'see': 230, 'board': 231, 'oy': 232, 'longterm': 233, 'march': 234, 'three': 235, 'yit': 236, 'job': 237, 'addition': 238, 'nordic': 239, 'insurance': 240, 'swedish': 241, 'facility': 242, 'store': 243, 'buy': 244, 'bring': 245, 'negative': 246, 'strategy': 247, 'reach': 248, 'complete': 249, 'december': 250, 'international': 251, 'oil': 252, 'plc': 253, 'division': 254, 'design': 255, 'city': 256, 'issue': 257, 'metso': 258, 'operator': 259, 'acquire': 260, 'exchange': 261, 'rate': 262, 'cent': 263, 'manage': 264, 'data': 265, 'forest': 266, 'xac': 267, 'north': 268, 'basware': 269, 'raise': 270, 'decline': 271, 'enable': 272, 'remain': 273, 'term': 274, 'q': 275, 'sport': 276, 'medium': 277, 'around': 278, 'machine': 279, 'mill': 280, 'support': 281, 'beer': 282, 'cargotec': 283, 'corp': 284, 'change': 285, 'sweden': 286, 'ship': 287, 'konecranes': 288, 'open': 289, 'fiskars': 290, 'brand': 291, 'america': 292, 'traffic': 293, 'kesko': 294, 'double': 295, 'office': 296, 'chief': 297, 'development': 298, 'index': 299, 'june': 300, 'local': 301, 'region': 302, 'teleste': 303, 'focus': 304, 'combine': 305, 'package': 306, 'reduction': 307, 'press': 308, 'whole': 309, 'industrial': 310, 'scanfil': 311, 'kone': 312, 'efficiency': 313, 'executive': 314, 'fiscal': 315, 'pulp': 316, 'improvement': 317, 'reduce': 318, 'tuesday': 319, 'russian': 320, 'previously': 321, 'long': 322, 'program': 323, 'day': 324, 'chain': 325, 'week': 326, 'agree': 327, 'fall': 328, 'move': 329, 'dilute': 330, 'st': 331, 'rautaruukki': 332, 'upgrade': 333, 'sek': 334, 'return': 335, 'transaction': 336, 'launch': 337, 'europe': 338, 'produce': 339, 'represent': 340, 'nordea': 341, 'able': 342, 'retail': 343, 'next': 344, 'energy': 345, 'upmkymmene': 346, 'temporarily': 347, 'rapala': 348, 'investor': 349, 'state': 350, 'print': 351, 'stand': 352, 'january': 353, 'head': 354, 'temporary': 355, 'forecast': 356, 'structure': 357, 'already': 358, 'atrium': 359, 'take': 360, 'material': 361, 'information': 362, 'petersburg': 363, 'friday': 364, 'analyst': 365, 'situation': 366, 'member': 367, 'outokumpu': 368, 'thursday': 369, 'four': 370, 'g': 371, 'outotec': 372, 'ab': 373, 'location': 374, 'gain': 375, 'warn': 376, 'ramirent': 377, 'ebit': 378, 'mreal': 379, 'since': 380, 'comparable': 381, 'fund': 382, 'suominen': 383, 'tonne': 384, 'major': 385, 'control': 386, 'cover': 387, 'cargo': 388, 'finance': 389, 'componenta': 390, 'slightly': 391, 'please': 392, 'wednesday': 393, 'come': 394, 'small': 395, 'yesterday': 396, 'elevator': 397, 'lift': 398, 'strategic': 399, 'become': 400, 'several': 401, 'turn': 402, 'delivery': 403, 'restructure': 404, 'july': 405, 'expansion': 406, 'experience': 407, 'worker': 408, 'india': 409, 'feb': 410, 'security': 411, 'president': 412, 'okmetic': 413, 'shop': 414, 'clothe': 415, 'stockmann': 416, 'bn': 417, 'maintenance': 418, 'consumer': 419, 'create': 420, 'application': 421, 'flight': 422, 'account': 423, 'consolidate': 424, 'elisa': 425, 'main': 426, 'place': 427, 'automation': 428, 'purchase': 429, 'carry': 430, 'afx': 431, 'tell': 432, 'vaahto': 433, 'producer': 434, 'central': 435, 'concern': 436, 'slip': 437, 'efficient': 438, 'januaryseptember': 439, 'raute': 440, 'worth': 441, 'property': 442, 'look': 443, 'kemira': 444, 'device': 445, 'airline': 446, 'marimekko': 447, 'talentum': 448, 'presence': 449, 'establish': 450, 'aspocomp': 451, 'export': 452, 'firm': 453, 'biohit': 454, 'swing': 455, 'platform': 456, 'april': 457, 'norwegian': 458, 'jump': 459, 'future': 460, 'aspo': 461, 'profitability': 462, 'mr': 463, 'begin': 464, 'siemens': 465, 'own': 466, 'department': 467, 'forward': 468, 'factory': 469, 'invest': 470, 'implement': 471, 'land': 472, 'broadband': 473, 'neste': 474, 'party': 475, 'resource': 476, 'telecom': 477, 'talvivaara': 478, 'figure': 479, 'comment': 480, 'inc': 481, 'portfolio': 482, 'glass': 483, 'adpnews': 484, 'best': 485, 'fair': 486, 'teliasonera': 487, 'glaston': 488, 'indian': 489, 'way': 490, 'raisio': 491, 'user': 492, 'power': 493, 'big': 494, 'book': 495, 'back': 496, 'effect': 497, 'overall': 498, 'hit': 499, 'nokian': 500, 'quality': 501, 'viking': 502, 'saw': 503, 'component': 504, 'partnership': 505, 'fuel': 506, 'aktia': 507, 'estonia': 508, 'impact': 509, 'logistics': 510, 'union': 511, 'generate': 512, 'digia': 513, 'distribution': 514, 'uponor': 515, 'invoice': 516, 'significantly': 517, 'tool': 518, 'show': 519, 'carrier': 520, 'route': 521, 'asia': 522, 'partner': 523, 'domestic': 524, 'meet': 525, 'magazine': 526, 'africa': 527, 'januaryjune': 528, 'south': 529, 'water': 530, 'cramo': 531, 'life': 532, 'silicon': 533, 'commercial': 534, 'capability': 535, 'center': 536, 'poyry': 537, 'vessel': 538, 'exist': 539, 'surge': 540, 'extend': 541, 'vaisala': 542, 'pharmaceutical': 543, 'currency': 544, 'corporate': 545, 'lose': 546, 'national': 547, 'brewery': 548, 'tyre': 549, 'drive': 550, 'activity': 551, 'ensure': 552, 'pay': 553, 'uk': 554, 'telecommunication': 555, 'general': 556, 'port': 557, 'core': 558, 'employ': 559, 'ferry': 560, 'abp': 561, 'find': 562, 'site': 563, 'infrastructure': 564, 'european': 565, 'ponsse': 566, 'home': 567, 'heat': 568, 'le': 569, 'model': 570, 'wood': 571, 'introduce': 572, 'license': 573, 'outside': 574, 'via': 575, 'london': 576, 'orion': 577, 'flexible': 578, 'lithuanian': 579, 'client': 580, 'jan': 581, 'competition': 582, 'credit': 583, 'affect': 584, 'bridge': 585, 'considerably': 586, 'weak': 587, 'dollar': 588, 'sponda': 589, 'monday': 590, 'retailer': 591, 'tiimari': 592, 'stake': 593, 'enter': 594, 'handset': 595, 'chemical': 596, 'map': 597, 'team': 598, 'wafer': 599, 'voice': 600, 'streamline': 601, 'competitive': 602, 'station': 603, 'finlandbased': 604, 'enterprise': 605, 'recommendation': 606, 'stainless': 607, 'threemonth': 608, 'decide': 609, 'asset': 610, 'rental': 611, 'pm': 612, 'benefon': 613, 'tallinn': 614, 'average': 615, 'test': 616, 'sampo': 617, 'shareholder': 618, 'crane': 619, 'strike': 620, 'trend': 621, 'recent': 622, 'dealer': 623, 'dividend': 624, 'fullyear': 625, 'japan': 626, 'aker': 627, 'expertise': 628, 'sysopen': 629, 'choose': 630, 'note': 631, 'eb': 632, 'another': 633, 'unite': 634, 'recycle': 635, 'electronic': 636, 'key': 637, 'past': 638, 'win': 639, 'allow': 640, 'late': 641, 'affecto': 642, 'charge': 643, 'internet': 644, 'segment': 645, 'thomson': 646, 'achieve': 647, 'vote': 648, 'grind': 649, 'fix': 650, 'need': 651, 'northern': 652, 'call': 653, 'raw': 654, 'sixmonth': 655, 'hand': 656, 'available': 657, 'association': 658, 'olvi': 659, 'eastern': 660, 'representative': 661, 'nov': 662, 'clearly': 663, 'efore': 664, 'incap': 665, 'select': 666, 'operational': 667, 'bln': 668, 'right': 669, 'recognize': 670, 'forestry': 671, 'lithuania': 672, 'kaupthing': 673, 'favourable': 674, 'fully': 675, 'autumn': 676, 'quite': 677, 'public': 678, 'ragutis': 679, 'employment': 680, 'oct': 681, 'register': 682, 'set': 683, 'condition': 684, 'meat': 685, 'commission': 686, 'tietoenator': 687, 'approve': 688, 'manager': 689, 'consumption': 690, 'organization': 691, 'grant': 692, 'waste': 693, 'widen': 694, 'latvia': 695, 'consensus': 696, 'transfer': 697, 'money': 698, 'upm': 699, 'yard': 700, 'knowhow': 701, 'house': 702, 'integrate': 703, 'prove': 704, 'welcome': 705, 'still': 706, 'additional': 707, 'full': 708, 'court': 709, 'daily': 710, 'transportation': 711, 'relate': 712, 'propose': 713, 'finnlines': 714, 'ebitda': 715, 'panostaja': 716, 'conclude': 717, 'approach': 718, 'publish': 719, 'container': 720, 'approximately': 721, 'six': 722, 'secure': 723, 'rtrks': 724, 'leader': 725, 'ten': 726, 'install': 727, 'extremely': 728, 'vacon': 729, 'form': 730, 'germany': 731, 'poland': 732, 'rival': 733, 'joint': 734, 'ixonos': 735, 'administration': 736, 'sanoma': 737, 'zinc': 738, 'kazakhstan': 739, 'lease': 740, 'outlook': 741, 'apriljune': 742, 'officer': 743, 'juha': 744, 'almost': 745, 'serve': 746, 'real': 747, 'estate': 748, 'eu': 749, 'especially': 750, 'entire': 751, 'currently': 752, 'nearly': 753, 'car': 754, 'mine': 755, 'escalator': 756, 'nickel': 757, 'side': 758, 'fast': 759, 'textile': 760, 'many': 761, 'east': 762, 'mineral': 763, 'mark': 764, 'dec': 765, 'standard': 766, 'functionality': 767, 'online': 768, 'interim': 769, 'pension': 770, 'wet': 771, 'wipe': 772, 'profitable': 773, 'circuit': 774, 'basis': 775, 'poor': 776, 'liquid': 777, 'cencorp': 778, 'navigation': 779, 'offshore': 780, 'load': 781, 'action': 782, 'near': 783, 'instrument': 784, 'government': 785, 'l': 786, 'import': 787, 'federal': 788, 'lassila': 789, 'tikanoja': 790, 'anticipate': 791, 'generation': 792, 'stockholm': 793, 'link': 794, 'recently': 795, 'afternoon': 796, 'player': 797, 'furthermore': 798, 'review': 799, 'commitment': 800, 'update': 801, 'transport': 802, 'fsecure': 803, 'lindex': 804, 'proud': 805, 'boost': 806, 'asian': 807, 'denmark': 808, 'moscow': 809, 'estonian': 810, 'run': 811, 'broke': 812, 'initiate': 813, 'ag': 814, 'video': 815, 'follow': 816, 'happy': 817, 'approval': 818, 'digital': 819, 'option': 820, 'promise': 821, 'man': 822, 'chairman': 823, 'statement': 824, 'expectation': 825, 'amer': 826, 'tltv': 827, 'therefore': 828, 'apartment': 829, 'technical': 830, 'nonwovens': 831, 'delight': 832, 'maximum': 833, 'repeat': 834, 'instal': 835, 'enhance': 836, 'gas': 837, 'julyseptember': 838, 'balance': 839, 'pohjola': 840, 'fish': 841, 'realize': 842, 'rd': 843, 'ftse': 844, 'venture': 845, 'decision': 846, 'concept': 847, 'takeover': 848, 'even': 849, 'great': 850, 'contribute': 851, 'brazilian': 852, 'summer': 853, 'ac': 854, 'satama': 855, 'coat': 856, 'installation': 857, 'sea': 858, 'salomon': 859, 'patent': 860, 'comptel': 861, 'opportunity': 862, 'understand': 863, 'latin': 864, 'social': 865, 'matti': 866, 'innovative': 867, 'kci': 868, 'competitiveness': 869, 'redundant': 870, 'help': 871, 'thank': 872, 'intend': 873, 'potential': 874, 'ninemonth': 875, 'five': 876, 'fiber': 877, 'thirdquarter': 878, 'short': 879, 'requirement': 880, 'bear': 881, 'get': 882, 'agricultural': 883, 'underlie': 884, 'danish': 885, 'locate': 886, 'vmc': 887, 'content': 888, 'excess': 889, 'em': 890, 'se': 891, 'railway': 892, 'romania': 893, 'huhtamaki': 894, 'litre': 895, 'important': 896, 'cancel': 897, 'lend': 898, 'wireless': 899, 'announcement': 900, 'secondquarter': 901, 'cloud': 902, 'confirm': 903, 'yearago': 904, 'advertise': 905, 'brazil': 906, 'hk': 907, 'ruokatalo': 908, 'tecnomen': 909, 'function': 910, 'connection': 911, 'advance': 912, 'charger': 913, 'salcomp': 914, 'participate': 915, 'clean': 916, 'lt': 917, 'geosentric': 918, 'preliminary': 919, 'web': 920, 'involve': 921, 'certain': 922, 'worldwide': 923, 'consult': 924, 'consultancy': 925, 'strength': 926, 'hobby': 927, 'hall': 928, 'seppala': 929, 'danske': 930, 'slide': 931, 'adjust': 932, 'track': 933, 'cable': 934, 'successfully': 935, 'pursue': 936, 'goal': 937, 'adjustment': 938, 'know': 939, 'plumb': 940, 'qpr': 941, 'abroad': 942, 'garden': 943, 'scissor': 944, 'wartsila': 945, 'fireplace': 946, 'air': 947, 'martela': 948, 'warehouse': 949, 'proposal': 950, 'beijing': 951, 'example': 952, 'specialise': 953, 'sto': 954, 'hungary': 955, 'yearearlier': 956, 'radio': 957, 'reorganisation': 958, 'triple': 959, 'competitor': 960, 'eurochem': 961, 'step': 962, 'dismiss': 963, 'workforce': 964, 'sq': 965, 'sum': 966, 'e': 967, 'policy': 968, 'tampere': 969, 'disposal': 970, 'spring': 971, 'srv': 972, 'comprise': 973, 'nasdaq': 974, 'integration': 975, 'american': 976, 'bid': 977, 'tieto': 978, 'h': 979, 'shalkiya': 980, 'economy': 981, 'australia': 982, 'do': 983, 'least': 984, 'synergy': 985, 'kcrv': 986, 'whereby': 987, 'centre': 988, 'problem': 989, 'factor': 990, 'output': 991, 'finnishswedish': 992, 'measurement': 993, 'send': 994, 'southern': 995, 'challenge': 996, 'japanese': 997, 'terminal': 998, 'fleet': 999, 'jyvaskyla': 1000, 'kilometre': 1001, 'nyse': 1002, 'single': 1003, 'memorandum': 1004, 'vietnam': 1005, 'natural': 1006, 'fortum': 1007, 'environmental': 1008, 'meanwhile': 1009, 'solar': 1010, 'apply': 1011, 'mexico': 1012, 'telenor': 1013, 'asa': 1014, 'mainly': 1015, 'sawmill': 1016, 'range': 1017, 'different': 1018, 'royal': 1019, 'explain': 1020, 'ore': 1021, 'percentage': 1022, 'rapid': 1023, 'unnamed': 1024, 'framework': 1025, 'smartphone': 1026, 'permanent': 1027, 'kari': 1028, 'computer': 1029, 'initially': 1030, 'xa': 1031, 'tekla': 1032, 'subscription': 1033, 'norway': 1034, 'latvian': 1035, 'person': 1036, 'lemminkainen': 1037, 'terminate': 1038, 'residential': 1039, 'parent': 1040, 'tire': 1041, 'syndicate': 1042, 'advantage': 1043, 'mmov': 1044, 'seven': 1045, 'british': 1046, 'ice': 1047, 'specialist': 1048, 'crown': 1049, 'foundry': 1050, 'territory': 1051, 'b': 1052, 'west': 1053, 'liquidity': 1054, 'charter': 1055, 'oriolakd': 1056, 'wholesale': 1057, 'tallink': 1058, 'electrical': 1059, 'associate': 1060, 'headquarter': 1061, 'space': 1062, 'cheap': 1063, 'diagnostic': 1064, 'safety': 1065, 'road': 1066, 'vat': 1067, 'arrangement': 1068, 'gps': 1069, 'attract': 1070, 'annually': 1071, 'progress': 1072, 'macgregor': 1073, 'marine': 1074, 'red': 1075, 'height': 1076, 'composite': 1077, 'microsoft': 1078, 'expense': 1079, 'ratio': 1080, 'name': 1081, 'm': 1082, 'owner': 1083, 'couple': 1084, 'telemig': 1085, 'quarterly': 1086, 'plus': 1087, 'sense': 1088, 'fujitsu': 1089, 'scope': 1090, 'pioneer': 1091, 'municipality': 1092, 'science': 1093, 'history': 1094, 'rank': 1095, 'insurer': 1096, 'environmentally': 1097, 'cruise': 1098, 'turku': 1099, 'personal': 1100, 'recruit': 1101, 'feel': 1102, 'moment': 1103, 'likely': 1104, 'trouble': 1105, 'family': 1106, 'extension': 1107, 'necessary': 1108, 'ilkkayhtyma': 1109, 'dc': 1110, 'modern': 1111, 'pattern': 1112, 'trademark': 1113, 'dispute': 1114, 'schedule': 1115, 'list': 1116, 'hkscan': 1117, 'without': 1118, 'distributor': 1119, 'fiveyear': 1120, 'ongoing': 1121, 'czech': 1122, 'republic': 1123, 'consecutive': 1124, 'counter': 1125, 'primarily': 1126, 'incur': 1127, 'slight': 1128, 'singapore': 1129, 'leverage': 1130, 'canada': 1131, 'direct': 1132, 'closure': 1133, 'kaukotelko': 1134, 'buyout': 1135, 'shanghai': 1136, 'equity': 1137, 'light': 1138, 'top': 1139, 'litas': 1140, 'loan': 1141, 'majority': 1142, 'eesti': 1143, 'surpass': 1144, 'eek': 1145, 'shb': 1146, 'p': 1147, 'combination': 1148, 'sverige': 1149, 'kroon': 1150, 'lee': 1151, 'fesco': 1152, 'pilot': 1153, 'pacific': 1154, 'cocacola': 1155, 'spend': 1156, 'longstanding': 1157, 'comprehensive': 1158, 'refine': 1159, 'prior': 1160, 'cgcbv': 1161, 'far': 1162, 'bullish': 1163, 'pekka': 1164, 'texas': 1165, 'morgan': 1166, 'intel': 1167, 'easy': 1168, 'distribute': 1169, 'hardware': 1170, 'file': 1171, 'assignment': 1172, 'acgv': 1173, 'pound': 1174, 'uncertainty': 1175, 'omxn': 1176, 'phase': 1177, 'care': 1178, 'rat': 1179, 'clear': 1180, 'cooperate': 1181, 'okmv': 1182, 'reserve': 1183, 'salaried': 1184, 'relative': 1185, 'pick': 1186, 'expenditure': 1187, 'turkey': 1188, 'procurement': 1189, 'animal': 1190, 'fat': 1191, 'biodiesel': 1192, 'notice': 1193, 'successful': 1194, 'push': 1195, 'benefit': 1196, 'tender': 1197, 'goldman': 1198, 'sachs': 1199, 'foreign': 1200, 'stonesoft': 1201, 'present': 1202, 'seek': 1203, 'ukraine': 1204, 'kai': 1205, 'tulonen': 1206, 'satisfy': 1207, 'tough': 1208, 'alma': 1209, 'ability': 1210, 'vwr': 1211, 'oneoff': 1212, 'rebuild': 1213, 'proceed': 1214, 'ton': 1215, 'intake': 1216, 'fertilizer': 1217, 'burden': 1218, 'stationery': 1219, 'gift': 1220, 'tiiv': 1221, 'resolve': 1222, 'kalmar': 1223, 'economic': 1224, 'within': 1225, 'elektrobit': 1226, 'excite': 1227, 'jussi': 1228, 'scale': 1229, 'srl': 1230, 'speed': 1231, 'prospect': 1232, 'fail': 1233, 'relationship': 1234, 'faller': 1235, 'limit': 1236, 'access': 1237, 'wide': 1238, 'esl': 1239, 'aldata': 1240, 'view': 1241, 'bond': 1242, 'rapidly': 1243, 'attractive': 1244, 'german': 1245, 'suspect': 1246, 'source': 1247, 'message': 1248, 'kyro': 1249, 'alone': 1250, 'gypsii': 1251, 'eight': 1252, 'engine': 1253, 'deployment': 1254, 'bulgaria': 1255, 'qualcomm': 1256, 'firstquarter': 1257, 'hot': 1258, 'diesel': 1259, 'grain': 1260, 'seat': 1261, 'vendor': 1262, 'dynamic': 1263, 'furniture': 1264, 'cutlery': 1265, 'fisa': 1266, 'sheet': 1267, 'frame': 1268, 'osl': 1269, 'particular': 1270, 'specialty': 1271, 'twoday': 1272, 'stonegate': 1273, 'official': 1274, 'newspaper': 1275, 'sustainable': 1276, 'cell': 1277, 'feature': 1278, 'treatment': 1279, 'rutav': 1280, 'stone': 1281, 'patient': 1282, 'observe': 1283, 'palm': 1284, 'truck': 1285, 'milestone': 1286, 'cause': 1287, 'mhz': 1288, 'star': 1289, 'park': 1290, 'sound': 1291, 'airbus': 1292, 'ivrcl': 1293, 'custom': 1294, 'summit': 1295, 'negotiate': 1296, 'ahead': 1297, 'healthy': 1298, 'stabilise': 1299, 'solteq': 1300, 'harvest': 1301, 'afev': 1302, 'institution': 1303, 'alus': 1304, 'slow': 1305, 'climb': 1306, 'prepare': 1307, 'pkc': 1308, 'ready': 1309, 'exploit': 1310, 'skf': 1311, 'alandsbanken': 1312, 'citigroup': 1313, 'navteq': 1314, 'color': 1315, 'mobility': 1316, 'januarymarch': 1317, 'lvl': 1318, 'tackle': 1319, 'size': 1320, 'thesis': 1321, 'recovery': 1322, 'fine': 1323, 'force': 1324, 'c': 1325, 'foot': 1326, 'exclusive': 1327, 'marubeni': 1328, 'commercially': 1329, 'bp': 1330, 'cthv': 1331, 'adac': 1332, 'refinance': 1333, 'separate': 1334, 'beyond': 1335, 'comply': 1336, 'prime': 1337, 'metro': 1338, 'kaunas': 1339, 'raivv': 1340, 'snack': 1341, 'stick': 1342, 'bay': 1343, 'bothnia': 1344, 'island': 1345, 'complement': 1346, 'tele': 1347, 'affarsvarlden': 1348, 'r': 1349, 's': 1350, 'inform': 1351, 'interrupt': 1352, 'repay': 1353, 'liability': 1354, 'rest': 1355, 'partially': 1356, 'healthcare': 1357, 'renew': 1358, 'outlet': 1359, 'quarteronquarter': 1360, 'claim': 1361, 'strand': 1362, 'madison': 1363, 'baltimore': 1364, 'police': 1365, 'costcutting': 1366, 'individual': 1367, 'resort': 1368, 'winter': 1369, 'inclusive': 1370, 'guidance': 1371, 'visitor': 1372, 'season': 1373, 'purpose': 1374, 'spin': 1375, 'mix': 1376, 'initial': 1377, 'proportion': 1378, 'visibility': 1379, 'ideal': 1380, 'rely': 1381, 'detection': 1382, 'fresh': 1383, 'exel': 1384, 'various': 1385, 'alternative': 1386, 'original': 1387, 'poultry': 1388, 'oulu': 1389, 'leisure': 1390, 'celular': 1391, 'prepay': 1392, 'subcontractor': 1393, 'responsible': 1394, 'bristol': 1395, 'hydraulics': 1396, 'extra': 1397, 'tornio': 1398, 'salv': 1399, 'library': 1400, 'art': 1401, 'culture': 1402, 'read': 1403, 'handelsbanken': 1404, 'friendly': 1405, 'click': 1406, 'beat': 1407, 'larox': 1408, 'etteplan': 1409, 'suffer': 1410, 'merge': 1411, 'rebound': 1412, 'implementation': 1413, 'demonstrate': 1414, 'lidskoe': 1415, 'pivo': 1416, 'foresee': 1417, 'modernization': 1418, 'solid': 1419, 'consistent': 1420, 'ask': 1421, 'customise': 1422, 'genesis': 1423, 'activate': 1424, 'mouse': 1425, 'cooper': 1426, 'ibm': 1427, 'weaken': 1428, 'snow': 1429, 'storm': 1430, 'tree': 1431, 'increasingly': 1432, 'technologically': 1433, 'initiative': 1434, 'immediate': 1435, 'th': 1436, 'membership': 1437, 'fixedterm': 1438, 'salary': 1439, 'connectivity': 1440, 'fin': 1441, 'cartel': 1442, 'talk': 1443, 'soapstone': 1444, 'tulikivi': 1445, 'fias': 1446, 'geosolutions': 1447, 'community': 1448, 'relevant': 1449, 'multimedia': 1450, 'powerful': 1451, 'much': 1452, 'require': 1453, 'buyer': 1454, 'thus': 1455, 'heikki': 1456, 'dubna': 1457, 'nokv': 1458, 'qt': 1459, 'shrink': 1460, 'paperboard': 1461, 'productivity': 1462, 'wholly': 1463, 'favor': 1464, 'midjuly': 1465, 'simplify': 1466, 'incentive': 1467, 'stay': 1468, 'hotel': 1469, 'reservation': 1470, 'popular': 1471, 'freeze': 1472, 'block': 1473, 'ever': 1474, 'payment': 1475, 'coq': 1476, 'final': 1477, 'superior': 1478, 'game': 1479, 'weakness': 1480, 'seb': 1481, 'soar': 1482, 'objective': 1483, 'extensively': 1484, 'human': 1485, 'contrast': 1486, 'effective': 1487, 'sufficient': 1488, 'kraftliner': 1489, 'deputy': 1490, 'bns': 1491, 'hear': 1492, 'yet': 1493, 'commerce': 1494, 'delay': 1495, 'repair': 1496, 'rocket': 1497, 'dibba': 1498, 'emirate': 1499, 'instead': 1500, 'nonbinding': 1501, 'bbl': 1502, 'oko': 1503, 'hatch': 1504, 'district': 1505, 'ilkka': 1506, 'sihvo': 1507, 'succeed': 1508, 'normal': 1509, 'sappi': 1510, 'harbor': 1511, 'swedbank': 1512, 'crisis': 1513, 'chip': 1514, 'ahlstrom': 1515, 'study': 1516, 'try': 1517, 'trust': 1518, 'smelter': 1519, 'copper': 1520, 'spokeswoman': 1521, 'nastola': 1522, 'threeyear': 1523, 'revolve': 1524, 'superstructure': 1525, 'gothenburg': 1526, 'western': 1527, 'hollola': 1528, 'sentry': 1529, 'camera': 1530, 'case': 1531, 'slovakia': 1532, 'nalmefene': 1533, 'clinical': 1534, 'drag': 1535, 'broad': 1536, 'colorful': 1537, 'austrian': 1538, 'austria': 1539, 'tailor': 1540, 'chance': 1541, 'mikko': 1542, 'jul': 1543, 'reject': 1544, 'campaign': 1545, 'promote': 1546, 'md': 1547, 'praise': 1548, 'decisionmaking': 1549, 'shipbuilder': 1550, 'jyvaeskylae': 1551, 'sievi': 1552, 'ilk': 1553, 'emerge': 1554, 'upon': 1555, 'completion': 1556, 'molybdenum': 1557, 'zinclead': 1558, 'kyronsalmi': 1559, 'strait': 1560, 'savonlinna': 1561, 'pearl': 1562, 'plaza': 1563, 'llc': 1564, 'co': 1565, 'seem': 1566, 'bottle': 1567, 'along': 1568, 'usa': 1569, 'research': 1570, 'boat': 1571, 'productional': 1572, 'decade': 1573, 'effort': 1574, 'freenet': 1575, 'frankfurt': 1576, 'hope': 1577, 'french': 1578, 'town': 1579, 'occupy': 1580, 'travel': 1581, 'mti': 1582, 'krippl': 1583, 'join': 1584, 'harvester': 1585, 'african': 1586, 'worry': 1587, 'ban': 1588, 'bunge': 1589, 'respondent': 1590, 'confident': 1591, 'forssa': 1592, 'compensation': 1593, 'tap': 1594, 'train': 1595, 'module': 1596, 'malaysia': 1597, 'sep': 1598, 'clerical': 1599, 'arcelormittal': 1600, 'motorcyclist': 1601, 'kraft': 1602, 'fourthquarter': 1603, 'norske': 1604, 'skog': 1605, 'gmbh': 1606, 'gallerix': 1607, 'cross': 1608, 'survey': 1609, 'jordan': 1610, 'reason': 1611, 'circulation': 1612, 'highquality': 1613, 'email': 1614, 'gunpoint': 1615, 'kidnap': 1616, 'disappointment': 1617, 'ict': 1618, 'jouko': 1619, 'threat': 1620, 'mika': 1621, 'warmly': 1622, 'professional': 1623, 'shape': 1624, 'body': 1625, 'biobv': 1626, 'formation': 1627, 'pipeline': 1628, 'halt': 1629, 'bosse': 1630, 'suburb': 1631, 'address': 1632, 'italian': 1633, 'cv': 1634, 'gold': 1635, 'tapiola': 1636, 'undisclosed': 1637, 'atomic': 1638, 'switch': 1639, 'converter': 1640, 'among': 1641, 'vodafone': 1642, 'grimaldi': 1643, 'mediterranean': 1644, 'respective': 1645, 'mean': 1646, 'capman': 1647, 'thereby': 1648, 'deutsche': 1649, 'juhani': 1650, 'apart': 1651, 'mediation': 1652, 'music': 1653, 'leipurin': 1654, 'john': 1655, 'marketwatch': 1656, 'offset': 1657, 'tecnotree': 1658, 'convergent': 1659, 'liquidate': 1660, 'loose': 1661, 'mw': 1662, 'window': 1663, 'smith': 1664, 'wife': 1665, 'authority': 1666, 'coast': 1667, 'ebgv': 1668, 'tyo': 1669, 'tomtom': 1670, 'latter': 1671, 'yearly': 1672, 'oppohjola': 1673, 'maintain': 1674, 'structural': 1675, 'ladle': 1676, 'bhushan': 1677, 'strip': 1678, 'varma': 1679, 'equivalent': 1680, 'skr': 1681, 'newly': 1682, 'contact': 1683, 'vice': 1684, 'possible': 1685, 'blackstone': 1686, 'lp': 1687, 'lenenergo': 1688, 'grid': 1689, 'tim': 1690, 'agro': 1691, 'lietuva': 1692, 'saudi': 1693, 'arabia': 1694, 'rpk': 1695, 'provision': 1696, 'permanently': 1697, 'turnaround': 1698, 'cap': 1699, 'usbased': 1700, 'iittala': 1701, 'reference': 1702, 'meur': 1703, 'pharmacy': 1704, 'actual': 1705, 'jarmo': 1706, 'northland': 1707, 'tse': 1708, 'kalnapiliotauro': 1709, 'grupe': 1710, 'kalnapilistauras': 1711, 'unibrew': 1712, 'offtake': 1713, 'uranium': 1714, 'abb': 1715, 'difficult': 1716, 'projection': 1717, 'though': 1718, 'privacy': 1719, 'landsbanken': 1720, 'reader': 1721, 'idea': 1722, 'brisk': 1723, 'google': 1724, 'brasil': 1725, 'sodra': 1726, 'participant': 1727, 'umts': 1728, 'us': 1729, 'accelerate': 1730, 'aluminium': 1731, 'renovate': 1732, 'sept': 1733, 'steal': 1734, 'proha': 1735, 'sharply': 1736, 'private': 1737, 'ink': 1738, 'exceed': 1739, 'mostly': 1740, 'apple': 1741, 'hong': 1742, 'metsaliitto': 1743, 'sabah': 1744, 'journey': 1745, 'scania': 1746, 'bus': 1747, 'sdav': 1748, 'plywood': 1749, 'cancellation': 1750, 'indicator': 1751, 'nok': 1752, 'plastic': 1753, 'cool': 1754, 'kind': 1755, 'nevertheless': 1756, 'fitch': 1757, 'nomination': 1758, 'glisten': 1759, 'favourably': 1760, 'growhow': 1761, 'normally': 1762, 'aircraft': 1763, 'divestment': 1764, 'procedure': 1765, 'extensive': 1766, 'sharp': 1767, 'method': 1768, 'novator': 1769, 'damage': 1770, 'reporter': 1771, 'vladimir': 1772, 'kilometer': 1773, 'stable': 1774, 'few': 1775, 'section': 1776, 'regional': 1777, 'belief': 1778, 'licence': 1779, 'fifth': 1780, 'matter': 1781, 'brewer': 1782, 'seal': 1783, 'industryleading': 1784, 'affectogenimap': 1785, 'tighten': 1786, 'batch': 1787, 'nonlife': 1788, 'frequency': 1789, 'latv': 1790, 'sami': 1791, 'coverage': 1792, 'kauniskangas': 1793, 'vaias': 1794, 'vehicle': 1795, 'deposit': 1796, 'principal': 1797, 'slash': 1798, 'touchscreen': 1799, 'reliability': 1800, 'scan': 1801, 'premium': 1802, 'cet': 1803, 'copenhagen': 1804, 'kauppalehti': 1805, 'marketplace': 1806, 'field': 1807, 'adaptation': 1808, 'adequate': 1809, 'middle': 1810, 'version': 1811, 'headcount': 1812, 'efov': 1813, 'opus': 1814, 'suite': 1815, 'role': 1816, 'nyrstar': 1817, 'nv': 1818, 'sulphuric': 1819, 'acid': 1820, 'trailer': 1821, 'pcb': 1822, 'tv': 1823, 'gts': 1824, 'cncv': 1825, 'could': 1826, 'inconsistent': 1827, 'amr': 1828, 'wcdma': 1829, 'iron': 1830, 'tanzania': 1831, 'sanitation': 1832, 'paul': 1833, 'zone': 1834, 'border': 1835, 'struggle': 1836, 'cdli': 1837, 'highlight': 1838, 'carbon': 1839, 'disclosure': 1840, 'request': 1841, 'mirabela': 1842, 'bahia': 1843, 'protection': 1844, 'loyal': 1845, 'perform': 1846, 'pori': 1847, 'lemcon': 1848, 'vegetable': 1849, 'federation': 1850, 'nexbtl': 1851, 'rapv': 1852, 'lem': 1853, 'leave': 1854, 'svyturysutenos': 1855, 'beverage': 1856, 'bbh': 1857, 'truly': 1858, 'salo': 1859, 'conference': 1860, 'regard': 1861, 'diagnostics': 1862, 'certify': 1863, 'fly': 1864, 'tm': 1865, 'learn': 1866, 'rich': 1867, 'leadership': 1868, 'honor': 1869, 'speak': 1870, 'accessory': 1871, 'contribution': 1872, 'success': 1873, 'rihko': 1874, 'employeremployee': 1875, 'rod': 1876, 'climber': 1877, 'mount': 1878, 'everest': 1879, 'kim': 1880, 'rantanen': 1881, 'acknowledge': 1882, 'concentrate': 1883, 'gradually': 1884, 'margarine': 1885, 'put': 1886, 'accomplish': 1887, 'answer': 1888, 'confidence': 1889, 'every': 1890, 'largerthanexpected': 1891, 'tlsn': 1892, 'ownership': 1893, 'risk': 1894, 'startup': 1895, 'telko': 1896, 'sotkamo': 1897, 'technopolis': 1898, 'lemminkinen': 1899, 'compete': 1900, 'scandinavian': 1901, 'senior': 1902, 'solidium': 1903, 'norsun': 1904, 'nevsky': 1905, 'optical': 1906, 'gbx': 1907, 'tanker': 1908, 'automobile': 1909, 'sentera': 1910, 'competence': 1911, 'otev': 1912, 'phosphate': 1913, 'debt': 1914, 'course': 1915, 'silva': 1916, 'write': 1917, 'erdenet': 1918, 'ordabasy': 1919, 'costefficiency': 1920, 'seppl': 1921, 'relatively': 1922, 'scandinavia': 1923, 'forum': 1924, 'hbos': 1925, 'mall': 1926, 'play': 1927, 'page': 1928, 'shimano': 1929, 'environment': 1930, 'seminar': 1931, 'tapro': 1932, 'recall': 1933, 'traceability': 1934, 'myllypuro': 1935, 'advisor': 1936, 'advise': 1937, 'builder': 1938, 'cogeneration': 1939, 'secondbiggest': 1940, 'supervise': 1941, 'franchise': 1942, 'nike': 1943, 'confectionery': 1944, 'thick': 1945, 'aaland': 1946, 'ee': 1947, 'ntc': 1948, 'geographical': 1949, 'bohemia': 1950, 'czechrepublic': 1951, 'savon': 1952, 'koulutuskuntayhtyma': 1953, 'entry': 1954, 'shed': 1955, 'acando': 1956, 'acanb': 1957, 'kronor': 1958, 'shut': 1959, 'ammonia': 1960, 'billingham': 1961, 'ince': 1962, 'jydsk': 1963, 'materiel': 1964, 'udlejning': 1965, 'jutland': 1966, 'tradition': 1967, 'kapthing': 1968, 'consideration': 1969, 'dmasia': 1970, 'asmobile': 1971, 'digitalmediaasiacom': 1972, 'dma': 1973, 'watertight': 1974, 'door': 1975, 'vana': 1976, 'regina': 1977, 'baltica': 1978, 'fire': 1979, 'madoff': 1980, 'ponzi': 1981, 'scheme': 1982, 'weekly': 1983, 'slump': 1984, 'snowfall': 1985, 'although': 1986, 'pyry': 1987, 'cfr': 1988, 'ukbased': 1989, 'prof': 1990, 'excellently': 1991, 'stability': 1992, 'brake': 1993, 'ebitis': 1994, 'regular': 1995, 'karputer': 1996, 'twig': 1997, 'satellite': 1998, 'predict': 1999, 'skanssi': 2000, 'owe': 2001, 'prolong': 2002, 'retrofit': 2003, 'veidekke': 2004, 'entreprenor': 2005, 'effectiveness': 2006, 'bold': 2007, 'fabric': 2008, 'beautifully': 2009, 'ercols': 2010, 'napoli': 2011, 'sofa': 2012, 'cerberus': 2013, 'lpbacked': 2014, 'newpage': 2015, 'cast': 2016, 'quarterended': 2017, 'thesecond': 2018, 'cl': 2019, 'vertical': 2020, 'weather': 2021, 'meteorological': 2022, 'reliable': 2023, 'pack': 2024, 'altogether': 2025, 'profile': 2026, 'tube': 2027, 'fi': 2028, 'keyword': 2029, 'comparison': 2030, 'uruguay': 2031, 'favorable': 2032, 'priit': 2033, 'kasak': 2034, 'balti': 2035, 'metsamasina': 2036, 'rakverebased': 2037, 'wish': 2038, 'valmet': 2039, 'dna': 2040, 'maingate': 2041, 'ephc': 2042, 'rory': 2043, 'fitzgerald': 2044, 'ntt': 2045, 'docomo': 2046, 'lte': 2047, 'juergen': 2048, 'walter': 2049, 'converge': 2050, 'fixedperiod': 2051, 'parttime': 2052, 'apriloctober': 2053, 'education': 2054, 'cooperative': 2055, 'loyalty': 2056, 'shortterm': 2057, 'stx': 2058, 'withviking': 2059, 'contain': 2060, 'mail': 2061, 'bogus': 2062, 'imitate': 2063, 'retrieve': 2064, 'mastercard': 2065, 'longestablished': 2066, 'documentation': 2067, 'bore': 2068, 'rettig': 2069, 'poyv': 2070, 'venezuel': 2071, 'gdp': 2072, 'lie': 2073, 'external': 2074, 'partly': 2075, 'termination': 2076, 'iprint': 2077, 'hs': 2078, 'electrically': 2079, 'krone': 2080, 'meiklejohn': 2081, 'iso': 2082, 'certification': 2083, 'mikshis': 2084, 'rcp': 2085, 'dolce': 2086, 'gabbana': 2087, 'declare': 2088, 'unikko': 2089, 'floral': 2090, 'invalid': 2091, 'finlan': 2092, 'hack': 2093, 'nefarious': 2094, 'tweet': 2095, 'enough': 2096, 'surfer': 2097, 'cursor': 2098, 'sh': 2099, 'isps': 2100, 'portal': 2101, 'electricity': 2102, 'household': 2103, 'aggressively': 2104, 'hdi': 2105, 'pcbs': 2106, 'geographic': 2107, 'brno': 2108, 'jt': 2109, 'bergqvist': 2110, 'resign': 2111, 'chairmanship': 2112, 'homeware': 2113, 'kitchen': 2114, 'interior': 2115, 'mississippi': 2116, 'gray': 2117, 'swoope': 2118, 'mda': 2119, 'seventeen': 2120, 'army': 2121, 'unify': 2122, 'nationwide': 2123, 'shareholding': 2124, 'lodge': 2125, 'prolongation': 2126, 'continent': 2127, 'asphalt': 2128, 'lion': 2129, 'kermansavi': 2130, 'search': 2131, 'virgin': 2132, 'like': 2133, 'reinforce': 2134, 'digv': 2135, 'mobilephone': 2136, 'noticeable': 2137, 'iggesunds': 2138, 'bruk': 2139, 'vocollect': 2140, 'discount': 2141, 'palfinger': 2142, 'rakvere': 2143, 'lihakombinaat': 2144, 'minority': 2145, 'satlan': 2146, 'broadcaster': 2147, 'iptv': 2148, 'amend': 2149, 'gypsiipowered': 2150, 'mention': 2151, 'bilbao': 2152, 'antwerp': 2153, 'hull': 2154, 'erkki': 2155, 'jrvinen': 2156, 'lamp': 2157, 'harri': 2158, 'koskinen': 2159, 'bestseller': 2160, 'abn': 2161, 'amro': 2162, 'bidder': 2163, 'await': 2164, 'kaido': 2165, 'kaare': 2166, 'pig': 2167, 'farm': 2168, 'together': 2169, 'aktav': 2170, 'svenska': 2171, 'finnishowned': 2172, 'kft': 2173, 'staffer': 2174, 'fulfill': 2175, 'cs': 2176, 'logical': 2177, 'sequence': 2178, 'card': 2179, 'apparently': 2180, 'utilise': 2181, 'deep': 2182, 'domain': 2183, 'asm': 2184, 'outsource': 2185, 'uh': 2186, 'black': 2187, 'convert': 2188, 'fill': 2189, 'beef': 2190, 'prosperous': 2191, 'changshu': 2192, 'hongmei': 2193, 'finnishgerman': 2194, 'homebased': 2195, 'eliv': 2196, 'emsa': 2197, 'juri': 2198, 'lember': 2199, 'tecnomens': 2200, 'workforse': 2201, 'nurminen': 2202, 'intermodal': 2203, 'worsethanexpected': 2204, 'courthouse': 2205, 'saltonstall': 2206, 'ameas': 2207, 'postel': 2208, 'poy': 2209, 'tanqia': 2210, 'fzc': 2211, 'ownerengineer': 2212, 'wastewater': 2213, 'fujairah': 2214, 'uae': 2215, 'insight': 2216, 'biography': 2217, 'onwards': 2218, 'letter': 2219, 'intent': 2220, 'shipowner': 2221, 'grieg': 2222, 'normalize': 2223, 'devalue': 2224, 'cfo': 2225, 'andrey': 2226, 'ilyin': 2227, 'potash': 2228, 'instance': 2229, 'conjunction': 2230, 'galvan': 2231, 'avoid': 2232, 'dagens': 2233, 'industri': 2234, 'seasonal': 2235, 'fluctuation': 2236, 'nasdaqlisted': 2237, 'yahoo': 2238, 'malaysian': 2239, 'favorite': 2240, 'bctmp': 2241, 'lundmark': 2242, 'deutschland': 2243, 'hard': 2244, 'amsterdam': 2245, 'netherlands': 2246, 'expire': 2247, 'embroil': 2248, 'disagreement': 2249, 'royalty': 2250, 'qualcommpatented': 2251, 'basv': 2252, 'tver': 2253, 'gorelovo': 2254, 'jp': 2255, 'scala': 2256, 'nobel': 2257, 'biocare': 2258, 'acnielsen': 2259, 'scantrack': 2260, 'soft': 2261, 'drink': 2262, 'handheld': 2263, 'constructive': 2264, 'manner': 2265, 'luxembourgregistered': 2266, 'amber': 2267, 'ii': 2268, 'council': 2269, 'sanitas': 2270, 'southfield': 2271, 'mich': 2272, 'patronage': 2273, 'waive': 2274, 'fee': 2275, 'tune': 2276, 'colleague': 2277, 'aptly': 2278, 'remark': 2279, 'fantastic': 2280, 'grievance': 2281, 'overtime': 2282, 'closedown': 2283, 'intensify': 2284, 'delhi': 2285, 'autotank': 2286, 'gustav': 2287, 'nyberg': 2288, 'jun': 2289, 'outv': 2290, 'markedly': 2291, 'partihallsforbindelsen': 2292, 'continuation': 2293, 'hearst': 2294, 'perfect': 2295, 'sophisticate': 2296, 'papermaking': 2297, 'ih': 2298, 'secondlargest': 2299, 'privately': 2300, 'andrew': 2301, 'oneyear': 2302, 'unman': 2303, 'acquit': 2304, 'pricefixing': 2305, 'conspiracy': 2306, 'closely': 2307, 'agent': 2308, 'greenhouse': 2309, 'emission': 2310, 'degree': 2311, 'immersive': 2312, 'bodily': 2313, 'injury': 2314, 'quadruple': 2315, 'reasonably': 2316, 'biotie': 2317, 'somaxon': 2318, 'trial': 2319, 'smoke': 2320, 'cessation': 2321, 'dental': 2322, 'oral': 2323, 'hammaslaakarit': 2324, 'stage': 2325, 'pink': 2326, 'pojlf': 2327, 'swift': 2328, 'execute': 2329, 'midoctober': 2330, 'love': 2331, 'activision': 2332, 'kelly': 2333, 'brockpahler': 2334, 'separately': 2335, 'cooperationand': 2336, 'tie': 2337, 'ourmachinery': 2338, 'solel': 2339, 'costeffective': 2340, 'highestquality': 2341, 'reflector': 2342, 'mnmn': 2343, 'repurchase': 2344, 'shall': 2345, 'distributable': 2346, 'want': 2347, 'tuomainen': 2348, 'incharge': 2349, 'scfv': 2350, 'ojalayhtyma': 2351, 'snag': 2352, 'campomos': 2353, 'hop': 2354, 'pave': 2355, 'collaboration': 2356, 'notify': 2357, 'pequot': 2358, 'henning': 2359, 'bahr': 2360, 'gruppen': 2361, 'po': 2362, 'dover': 2363, 'calais': 2364, 'rauma': 2365, 'timo': 2366, 'suistio': 2367, 'hire': 2368, 'mechanical': 2369, 'prosition': 2370, 'xnsv': 2371, 'keskuskatu': 2372, 'backbone': 2373, 'pedestrianised': 2374, 'downtown': 2375, 'pedestrian': 2376, 'precinct': 2377, 'adanac': 2378, 'columbia': 2379, 'utilisation': 2380, 'fluctuate': 2381, 'unstable': 2382, 'varpaisj': 2383, 'rvi': 2384, 'stop': 2385, 'archipelago': 2386, 'gmt': 2387, 'saint': 2388, 'lean': 2389, 'subsidy': 2390, 'lngfuelled': 2391, 'reuse': 2392, 'pet': 2393, 'steadily': 2394, 'strap': 2395, 'tape': 2396, 'dip': 2397, 'petcore': 2398, 'unfortunately': 2399, 'yokohama': 2400, 'nagoya': 2401, 'silver': 2402, 'metropolitan': 2403, 'washington': 2404, 'graz': 2405, 'aalborg': 2406, 'lnsikalkkuna': 2407, 'honkajoki': 2408, 'findest': 2409, 'protein': 2410, 'bcd': 2411, 'porvoo': 2412, 'refinery': 2413, 'correspondingly': 2414, 'boomeranger': 2415, 'jrvisuomen': 2416, 'portti': 2417, 'borlnge': 2418, 'tectia': 2419, 'tecv': 2420, 'realtime': 2421, 'appoint': 2422, 'lanlan': 2423, 'salonen': 2424, 'inventory': 2425, 'celebrate': 2426, 'fiftieth': 2427, 'anniversary': 2428, 'distinctive': 2429, 'detach': 2430, 'schmardin': 2431, 'drillisch': 2432, 'breakup': 2433, 'outcome': 2434, 'sneed': 2435, 'materialise': 2436, 'cee': 2437, 'centralise': 2438, 'riihimki': 2439, 'budapest': 2440, 'pecs': 2441, 'zoltan': 2442, 'altimo': 2443, 'usmanov': 2444, 'inline': 2445, 'underperform': 2446, 'babcock': 2447, 'graphic': 2448, 'montevideo': 2449, 'valio': 2450, 'ipv': 2451, 'pitprodukt': 2452, 'littleknown': 2453, 'northwest': 2454, 'sunnuntai': 2455, 'carlshamn': 2456, 'mejeri': 2457, 'reward': 2458, 'distinguish': 2459, 'phonebook': 2460, 'inside': 2461, 'geberit': 2462, 'blame': 2463, 'lye': 2464, 'leak': 2465, 'occur': 2466, 'fulfil': 2467, 'communal': 2468, 'pipettors': 2469, 'disposable': 2470, 'pipettor': 2471, 'tip': 2472, 'throughout': 2473, 'asiapacific': 2474, 'visa': 2475, 'wave': 2476, 'taiwan': 2477, 'korea': 2478, 'southeast': 2479, 'jung': 2480, 'free': 2481, 'lakshmi': 2482, 'mittal': 2483, 'furnace': 2484, 'carrierrelated': 2485, 'bleach': 2486, 'liner': 2487, 'wash': 2488, 'klabin': 2489, 'telmaco': 2490, 'borba': 2491, 'paran': 2492, 'humancentric': 2493, 'signify': 2494, 'era': 2495, 'depend': 2496, 'eubased': 2497, 'capable': 2498, 'buck': 2499, 'flat': 2500, 'oxygen': 2501, 'sick': 2502, 'maihak': 2503, 'indorussia': 2504, 'irritant': 2505, 'procedural': 2506, 'hassle': 2507, 'chamber': 2508, 'obstacle': 2509, 'defense': 2510, 'ooo': 2511, 'ilim': 2512, 'bratsk': 2513, 'dok': 2514, 'holiday': 2515, 'tahko': 2516, 'ski': 2517, 'spa': 2518, 'occupancy': 2519, 'lasse': 2520, 'aho': 2521, 'mmx': 2522, 'saav': 2523, 'payout': 2524, 'bite': 2525, 'outgo': 2526, 'enduser': 2527, 'conferencing': 2528, 'attachment': 2529, 'terrorize': 2530, 'male': 2531, 'maple': 2532, 'avenue': 2533, 'shoot': 2534, 'fold': 2535, 'tallinnbased': 2536, 'aero': 2537, 'patja': 2538, 'zero': 2539, 'internal': 2540, 'administrator': 2541, 'indicate': 2542, 'irish': 2543, 'karvinen': 2544, 'describe': 2545, 'tariff': 2546, 'hike': 2547, 'stahlberg': 2548, 'vp': 2549, 'lab': 2550, 'avcomparatives': 2551, 'lansio': 2552, 'paint': 2553, 'approx': 2554, 'brinkab': 2555, 'scaffold': 2556, 'lkab': 2557, 'pellet': 2558, 'kiruna': 2559, 'floor': 2560, 'vesa': 2561, 'laisi': 2562, 'plug': 2563, 'beneficial': 2564, 'ayanambakkam': 2565, 'chennai': 2566, 'technoports': 2567, 'handli': 2568, 'papua': 2569, 'guineabased': 2570, 'lihir': 2571, 'asx': 2572, 'lgl': 2573, 'lhivakuutus': 2574, 'fierce': 2575, 'borrower': 2576, 'roadshow': 2577, 'bluecollar': 2578, 'rough': 2579, 'terrain': 2580, 'handler': 2581, 'rtch': 2582, 'mitsubishi': 2583, 'heavy': 2584, 'mhi': 2585, 'apetit': 2586, 'helsinkibased': 2587, 'suunto': 2588, 'portion': 2589, 'tallinnhelsinki': 2590, 'laboratory': 2591, 'representation': 2592, 'calculate': 2593, 'substantially': 2594, 'bread': 2595, 'kauhava': 2596, 'hm': 2597, 'jens': 2598, 'schultebockum': 2599, 'potentially': 2600, 'lifetime': 2601, 'maritime': 2602, 'ignore': 2603, 'icy': 2604, 'complex': 2605, 'uwe': 2606, 'bakosch': 2607, 'activeness': 2608, 'duration': 2609, 'young': 2610, 'child': 2611, 'event': 2612, 'higherend': 2613, 'pricy': 2614, 'lennart': 2615, 'simonsen': 2616, 'holmen': 2617, 'lewa': 2618, 'beteiligungs': 2619, 'geenrated': 2620, 'conciliator': 2621, 'salonius': 2622, 'volunteer': 2623, 'depot': 2624, 'hd': 2625, 'neighborhood': 2626, 'sanctuary': 2627, 'ornav': 2628, 'trainer': 2629, 'trhv': 2630, 'hybrid': 2631, 'dubai': 2632, 'groundbreaking': 2633, 'enjoy': 2634, 'internationalize': 2635, 'france': 2636, 'lgpl': 2637, 'raahe': 2638, 'restaurant': 2639, 'christopher': 2640, 'wynne': 2641, 'papa': 2642, 'tablet': 2643, 'restriction': 2644, 'dairy': 2645, 'vinachem': 2646, 'occasion': 2647, 'realignment': 2648, 'manipulator': 2649, 'knight': 2650, 'globally': 2651, 'brokerage': 2652, 'true': 2653, 'marktomarket': 2654, 'bssoss': 2655, 'va': 2656, 'specify': 2657, 'exercise': 2658, 'kyroskoski': 2659, 'ky': 2660, 'fenestra': 2661, 'automatic': 2662, 'varnish': 2663, 'jozef': 2664, 'misurec': 2665, 'chuck': 2666, 'consultant': 2667, 'asimilar': 2668, 'sehk': 2669, 'chl': 2670, 'thegps': 2671, 'olympic': 2672, 'thelatest': 2673, 'trace': 2674, 'toxic': 2675, 'osmium': 2676, 'tetroxide': 2677, 'permeri': 2678, 'northernmost': 2679, 'gulf': 2680, 'mo': 2681, 'tikkakoski': 2682, 'seoul': 2683, 'assurance': 2684, 'category': 2685, 'permit': 2686, 'biofuelfired': 2687, 'chp': 2688, 'vartan': 2689, 'nonprofit': 2690, 'interbank': 2691, 'camara': 2692, 'interbancaria': 2693, 'de': 2694, 'pagamentos': 2695, 'cip': 2696, 'sterling': 2697, 'boycott': 2698, 'task': 2699, 'refuse': 2700, 'determine': 2701, 'wage': 2702, 'assumption': 2703, 'guide': 2704, 'hightech': 2705, 'ringman': 2706, 'maxi': 2707, 'master': 2708, 'maya': 2709, 'joe': 2710, 'doering': 2711, 'electrowattekono': 2712, 'philippine': 2713, 'om': 2714, 'fr': 2715, 'cement': 2716, 'bg': 2717, 'ad': 2718, 'innovator': 2719, 'specifically': 2720, 'locally': 2721, 'bestofbreed': 2722, 'trygvesta': 2723, 'glav': 2724, 'consolidation': 2725, 'raiffeisen': 2726, 'recipient': 2727, 'earningsrelated': 2728, 'periodend': 2729, 'applaud': 2730, 'factbased': 2731, 'datadriven': 2732, 'clarity': 2733, 'petition': 2734, 'midstrength': 2735, 'secretary': 2736, 'mexican': 2737, 'sintra': 2738, 'buenavistacuautitlan': 2739, 'suburban': 2740, 'oneoffs': 2741, 'hence': 2742, 'actually': 2743, 'ssh': 2744, 'spokesman': 2745, 'usko': 2746, 'maatta': 2747, 'stavo': 2748, 'stavokonsult': 2749, 'kostiainen': 2750, 'envisage': 2751, 'ferryboat': 2752, 'hostile': 2753, 'thanksto': 2754, 'theutilization': 2755, 'substantiallyimproved': 2756, 'sphere': 2757, 'despite': 2758, 'cockroft': 2759, 'excellent': 2760, 'moreover': 2761, 'singer': 2762, 'friedlander': 2763, 'broking': 2764, 'midmarket': 2765, 'trader': 2766, 'arab': 2767, 'qatar': 2768, 'lifetree': 2769, 'found': 2770, 'os': 2771, 'orascom': 2772, 'oth': 2773, 'activation': 2774, 'eone': 2775, 'rubbertyred': 2776, 'gantry': 2777, 'rtg': 2778, 'saigon': 2779, 'newport': 2780, 'snp': 2781, 'mara': 2782, 'certainly': 2783, 'disagree': 2784, 'ebita': 2785, 'mmh': 2786, 'morris': 2787, 'digitalize': 2788, 'mutual': 2789, 'mf': 2790, 'grade': 2791, 'complexity': 2792, 'routine': 2793, 'drug': 2794, 'statedowned': 2795, 'monopoly': 2796, 'apoteket': 2797, 'shenzhen': 2798, 'old': 2799, 'honkamaa': 2800, 'viewpoint': 2801, 'shipment': 2802, 'rationalize': 2803, 'meov': 2804, 'basic': 2805, 'canadian': 2806, 'miner': 2807, 'naur': 2808, 'nau': 2809, 'residentialconstruction': 2810, 'oversupply': 2811, 'transplace': 2812, 'bestinclass': 2813, 'pl': 2814, 'ontime': 2815, 'neomarkka': 2816, 'kuitu': 2817, 'restart': 2818, 'bottomline': 2819, 'lietuvos': 2820, 'respublikos': 2821, 'sveikatos': 2822, 'apsaugos': 2823, 'ministerija': 2824, 'uab': 2825, 'cameco': 2826, 'upfront': 2827, 'extraction': 2828, 'swissswedish': 2829, 'anjalankoski': 2830, 'jarvenpaa': 2831, 'karhula': 2832, 'valkeakoski': 2833, 'thirteen': 2834, 'steelmaker': 2835, 'drought': 2836, 'eat': 2837, 'yen': 2838, 'oems': 2839, 'wimax': 2840, 'novel': 2841, 'candidate': 2842, 'pride': 2843, 'exposure': 2844, 'bruce': 2845, 'hansen': 2846, 'svh': 2847, 'wolverine': 2848, 'wats': 2849, 'samsung': 2850, 'elektros': 2851, 'pavara': 2852, 'streak': 2853, 'dub': 2854, 'gap': 2855, 'unbanked': 2856, 'maaseudun': 2857, 'tulevaisuus': 2858, 'adjacent': 2859, 'shale': 2860, 'meego': 2861, 'shipbuilding': 2862, 'saysjouni': 2863, 'haikarainen': 2864, 'eloholma': 2865, 'rationalization': 2866, 'tinyurl': 2867, 'scamming': 2868, 'thousand': 2869, 'goog': 2870, 'advertiser': 2871, 'getinge': 2872, 'multiply': 2873, 'wagon': 2874, 'malkia': 2875, 'vr': 2876, 'gprs': 2877, 'glad': 2878, 'stiggoran': 2879, 'sandberg': 2880, 'rifd': 2881, 'olli': 2882, 'saarinen': 2883, 'supervisor': 2884, 'yara': 2885, 'nausea': 2886, 'industrialization': 2887, 'nation': 2888, 'te': 2889, 'airvana': 2890, 'femto': 2891, 'softwarebased': 2892, 'offtheshelf': 2893, 'gsk': 2894, 'dartford': 2895, 'notably': 2896, 'ponv': 2897, 'directive': 2898, 'pretreatment': 2899, 'inception': 2900, 'degridding': 2901, 'sand': 2902, 'grease': 2903, 'removal': 2904, 'deodorization': 2905, 'globe': 2906, 'newswire': 2907, 'nextgeneration': 2908, 'burgundy': 2909, 'nissan': 2910, 'altima': 2911, 'kaarstroem': 2912, 'tt': 2913, 'equip': 2914, 'safe': 2915, 'vvauto': 2916, 'surprise': 2917, 'overshadow': 2918, 'leakage': 2919, 'gypsum': 2920, 'pond': 2921, 'detect': 2922, 'telanne': 2923, 'laitinen': 2924, 'remainder': 2925, 'annualised': 2926, 'ollipekka': 2927, 'kallasvuo': 2928, 'reshuffle': 2929, 'iphone': 2930, 'rim': 2931, 'blackberry': 2932, 'antibody': 2933, 'mgkg': 2934, 'generally': 2935, 'tolerate': 2936, 'pharmacokinetic': 2937, 'characteristic': 2938, 'btt': 2939, 'psoriasis': 2940, 'rheumatoid': 2941, 'arthritis': 2942, 'ra': 2943, 'kveyt': 2944, 'variety': 2945, 'suomalainen': 2946, 'pekoni': 2947, 'modem': 2948, 'lifestyle': 2949, 'geomobility': 2950, 'nanjing': 2951, 'mynet': 2952, 'twofold': 2953, 'zahariev': 2954, 'whollyowned': 2955, 'kong': 2956, 'unique': 2957, 'sfi': 2958, 'elsewhere': 2959, 'stabilisation': 2960, 'renewable': 2961, 'feedstock': 2962, 'impute': 2963, 'stanley': 2964, 'heavyduty': 2965, 'minor': 2966, 'kesbv': 2967, 'yearonyea': 2968, 'garry': 2969, 'mcguire': 2970, 'rmg': 2971, 'critical': 2972, 'usp': 2973, 'roadmap': 2974, 'simon': 2975, 'button': 2976, 'nda': 2977, 'timber': 2978, 'airspace': 2979, 'recommence': 2980, 'accommodation': 2981, 'bidirectional': 2982, 'television': 2983, 'sp': 2984, 'myllykoski': 2985, 'reuters': 2986, 'hydronic': 2987, 'cybercom': 2988, 'cto': 2989, 'esko': 2990, 'myllyla': 2991, 'trigger': 2992, 'uncertain': 2993, 'januarynovember': 2994, 'eliiv': 2995, 'irrevocably': 2996, 'physical': 2997, 'sunrise': 2998, 'valley': 2999, 'andrius': 3000, 'bagdonas': 3001, 'magnus': 3002, 'rosen': 3003, 'interactive': 3004, 'election': 3005, 'fundamental': 3006, 'bjorn': 3007, 'wahlroos': 3008, 'accept': 3009, 'winwin': 3010, 'justfood': 3011, 'previousyear': 3012, 'ingerois': 3013, 'cision': 3014, 'renovation': 3015, 'mould': 3016, 'orhangazi': 3017, 'inkinen': 3018, 'highly': 3019, 'renzo': 3020, 'piano': 3021, 'wonderful': 3022, 'skyline': 3023, 'noud': 3024, 'veeger': 3025, 'evp': 3026, 'variant': 3027, 'rollsroyce': 3028, 'trent': 3029, 'series': 3030, 'icis': 3031, 'inorganic': 3032, 'coagulant': 3033, 'andhra': 3034, 'pradesh': 3035, 'gasfuelled': 3036, 'propulsion': 3037, 'stadtverwaltung': 3038, 'mainz': 3039, 'chassis': 3040, 'treasury': 3041, 'bilfinger': 3042, 'cheer': 3043, 'sevenmonth': 3044, 'deem': 3045, 'tomorrow': 3046, 'elqav': 3047, 'industrialisation': 3048, 'aftermarket': 3049, 'swiss': 3050, 'franc': 3051, 'fasten': 3052, 'directly': 3053, 'foundation': 3054, 'volotinen': 3055, 'winner': 3056, 'bypass': 3057, 'kotka': 3058, 'vanhanen': 3059, 'arrive': 3060, 'oneday': 3061, 'putin': 3062, 'lahti': 3063, 'mile': 3064, 'reflect': 3065, 'conservative': 3066, 'raab': 3067, 'actively': 3068, 'away': 3069, 'towards': 3070, 'endtoend': 3071, 'ervio': 3072, 'tapeks': 3073, 'noma': 3074, 'signal': 3075, 'smartphones': 3076, 'connect': 3077, 'oborniki': 3078, 'sandwich': 3079, 'panel': 3080, 'megafon': 3081, 'subscriber': 3082, 'productive': 3083, 'rerouting': 3084, 'bofa': 3085, 'downgrade': 3086, 'swedishfinnish': 3087, 'sterv': 3088, 'upmv': 3089, 'underperf': 3090, 'arvo': 3091, 'vuorenmaa': 3092, 'loviisa': 3093, 'unless': 3094, 'settle': 3095, 'cite': 3096, 'flag': 3097, 'nineyear': 3098, 'leaseback': 3099, 'syndication': 3100, 'accordance': 3101, 'backlog': 3102, 'gross': 3103, 'norvestia': 3104, 'artv': 3105, 'tamglass': 3106, 'finton': 3107, 'halve': 3108, 'ambulance': 3109, 'ropax': 3110, 'keyin': 3111, 'electronically': 3112, 'confirmation': 3113, 'upload': 3114, 'catalogue': 3115, 'tight': 3116, 'investigate': 3117, 'optimisation': 3118, 'hour': 3119, 'precision': 3120, 'mortar': 3121, 'eye': 3122, 'york': 3123, 'reiterate': 3124, 'duty': 3125, 'er': 3126, 'italy': 3127, 'homebase': 3128, 'nonprofitable': 3129, 'stateowned': 3130, 'assume': 3131, 'welllocated': 3132, 'school': 3133, 'kindergarten': 3134, 'diversify': 3135, 'seppanen': 3136, 'emt': 3137, 'slogan': 3138, 'across': 3139, 'mislead': 3140, 'robust': 3141, 'inclusion': 3142, 'augustoctober': 3143, 'apparent': 3144, 'perttu': 3145, 'puro': 3146, 'tradeka': 3147, 'simply': 3148, 'neteller': 3149, 'stan': 3150, 'scotland': 3151, 'rb': 3152, 'barclays': 3153, 'barc': 3154, 'bcs': 3155, 'medvezhyegorsk': 3156, 'fruit': 3157, 'lang': 3158, 'chrome': 3159, 'rinkuskiai': 3160, 'kauno': 3161, 'introduction': 3162, 'karhinen': 3163, 'huge': 3164, 'capacitor': 3165, 'optimization': 3166, 'bosniaherzegovina': 3167, 'aluminij': 3168, 'dd': 3169, 'mostar': 3170, 'anode': 3171, 'arokarhu': 3172, 'disappear': 3173, 'bavarian': 3174, 'dkk': 3175, 'wrtv': 3176, 'liquefy': 3177, 'lng': 3178, 'psv': 3179, 'eidesvik': 3180, 'eiof': 3181, 'consist': 3182, 'kopijyva': 3183, 'sokonet': 3184, 'conduct': 3185, 'taloustutkimus': 3186, 'badly': 3187, 'communicate': 3188, 'construct': 3189, 'pkcv': 3190, 'nutzfahrzeuge': 3191, 'harness': 3192, 'spolka': 3193, 'zoo': 3194, 'immediately': 3195, 'soon': 3196, 'africaand': 3197, 'laborious': 3198, 'stressful': 3199, 'suction': 3200, 'anchor': 3201, 'kalajoki': 3202, 'sel': 3203, 'hasten': 3204, 'collective': 3205, 'bargain': 3206, 'outperform': 3207, 'unlimited': 3208, 'cincinnati': 3209, 'ohio': 3210, 'tack': 3211, 'powersupply': 3212, 'manavigatorseptember': 3213, 'unveil': 3214, 'jv': 3215, 'krav': 3216, 'bom': 3217, 'whose': 3218, 'wilson': 3219, 'intellisync': 3220, 'calendar': 3221, 'selfservice': 3222, 'effectively': 3223, 'lehdentekijat': 3224, 'viisas': 3225, 'raha': 3226, 'wise': 3227, 'suyv': 3228, 'silvennoinen': 3229, 'telecominvest': 3230, 'argument': 3231, 'convince': 3232, 'cobalt': 3233, 'norilsk': 3234, 'stream': 3235, 'roaster': 3236, 'ozk': 3237, 'kardzhali': 3238, 'predictability': 3239, 'trustworthy': 3240, 'januaryaugust': 3241, 'lorry': 3242, 'promotion': 3243, 'higherthanexpected': 3244, 'kirkkonummi': 3245, 'nivala': 3246, 'hundred': 3247, 'kfood': 3248, 'stacker': 3249, 'dirk': 3250, 'jones': 3251, 'citi': 3252, 'custody': 3253, 'indebtedness': 3254, 'helsingin': 3255, 'uutiset': 3256, 'vantaan': 3257, 'sanomat': 3258, 'lansivayla': 3259, 'roi': 3260, 'maritim': 3261, 'sandanger': 3262, 'bottom': 3263, 'seppnen': 3264, 'onethird': 3265, 'commit': 3266, 'apollo': 3267, 'churn': 3268, 'courtship': 3269, 'theodosopoulos': 3270, 'tellabs': 3271, 'nortel': 3272, 'status': 3273, 'verizon': 3274, 'highgrowth': 3275, 'com': 3276, 'constantly': 3277, 'leminen': 3278, 'anttila': 3279, 'besides': 3280, 'sausage': 3281, 'taste': 3282, 'grill': 3283, 'shish': 3284, 'kebab': 3285, 'paavel': 3286, 'bad': 3287, 'barbeque': 3288, 'sanyo': 3289, 'bestin': 3290, 'dog': 3291, 'dutch': 3292, 'enthusiasm': 3293, 'gasoline': 3294, 'hamina': 3295, 'platts': 3296, 'divisional': 3297, 'code': 3298, 'oneworld': 3299, 'sun': 3300, 'alliance': 3301, 'suitor': 3302, 'rule': 3303, 'ghspa': 3304, 'modular': 3305, 'flexi': 3306, 'java': 3307, 'bali': 3308, 'sumatra': 3309, 'batam': 3310, 'sveza': 3311, 'kaunisvaara': 3312, 'tapuli': 3313, 'sahavaara': 3314, 'aggregate': 3315, 'burrill': 3316, 'heathrow': 3317, 'osaka': 3318, 'manchester': 3319, 'piece': 3320, 'indiabased': 3321, 'giant': 3322, 'wipro': 3323, 'berlin': 3324, 'kazgiprotsvetmet': 3325, 'metallurgical': 3326, 'surround': 3327, 'ministry': 3328, 'rehabilitation': 3329, 'bukoba': 3330, 'musoma': 3331, 'situate': 3332, 'lake': 3333, 'victoria': 3334, 'super': 3335, 'nasty': 3336, 'eric': 3337, 'schultze': 3338, 'shavlik': 3339, 'minnbased': 3340, 'patch': 3341, 'bergvik': 3342, 'appreciation': 3343, 'pharma': 3344, 'karppinen': 3345, 'surmise': 3346, 'comfort': 3347, 'wi': 3348, 'prnewswire': 3349, 'registration': 3350, 'orange': 3351, 'iconic': 3352, 'financially': 3353, 'guard': 3354, 'moor': 3355, 'carshipping': 3356, 'railroadcar': 3357, 'checkpoint': 3358, 'jaemsaenkoski': 3359, 'pesonen': 3360, 'kivimeister': 3361, 'deer': 3362, 'former': 3363, 'timberjack': 3364, 'yy': 3365, 'newsroom': 3366, 'keywords': 3367, 'tecnomenresults': 3368, 'hurt': 3369, 'response': 3370, 'cdp': 3371, 'execution': 3372, 'diminish': 3373, 'pnaas': 3374, 'pnabs': 3375, 'kospa': 3376, 'australian': 3377, 'sulfide': 3378, 'advisory': 3379, 'ntsb': 3380, 'subsequent': 3381, 'intermittently': 3382, 'collection': 3383, 'error': 3384, 'kan': 3385, 'dahlstrm': 3386, 'eightfold': 3387, 'tb': 3388, 'merrill': 3389, 'lynch': 3390, 'campbell': 3391, 'paperlinx': 3392, 'neutral': 3393, 'belarus': 3394, 'oao': 3395, 'grodno': 3396, 'decaliter': 3397, 'utm': 3398, 'inbound': 3399, 'outbound': 3400, 'attack': 3401, 'dz': 3402, 'rabobank': 3403, 'linkspans': 3404, 'morocco': 3405, 'ireland': 3406, 'fennia': 3407, 'actor': 3408, 'dampen': 3409, 'kapiteeli': 3410, 'consider': 3411, 'espoon': 3412, 'kaupunki': 3413, 'vdw': 3414, 'lxe': 3415, 'keyboard': 3416, 'ease': 3417, 'seikku': 3418, 'alholma': 3419, 'pietarsaari': 3420, 'midmay': 3421, 'stem': 3422, 'kaluga': 3423, 'peer': 3424, 'peugeot': 3425, 'blyk': 3426, 'keep': 3427, 'lnnen': 3428, 'tehtaat': 3429, 'finnishness': 3430, 'innovation': 3431, 'appointment': 3432, 'coordinate': 3433, 'nepal': 3434, 'population': 3435, 'presently': 3436, 'mou': 3437, 'collaborate': 3438, 'glassfiber': 3439, 'reinforcement': 3440, 'carolina': 3441, 'reveal': 3442, 'kolkata': 3443, 'ineta': 3444, 'zaharova': 3445, 'powerless': 3446, 'significance': 3447, 'emphasise': 3448, 'januarymay': 3449, 'altia': 3450, 'respond': 3451, 'pose': 3452, 'biofuels': 3453, 'usage': 3454, 'renewables': 3455, 'thirtyone': 3456, 'trim': 3457, 'lattelecom': 3458, 'nil': 3459, 'melngailis': 3460, 'dnabased': 3461, 'quick': 3462, 'adapter': 3463, 'sap': 3464, 'netweaver': 3465, 'endorsement': 3466, 'erp': 3467, 'yekaterinburg': 3468, 'lundbeck': 3469, 'southkorea': 3470, 'teacher': 3471, 'choice': 3472, 'classroom': 3473, 'heritage': 3474, 'gartner': 3475, 'analysis': 3476, 'itunesbased': 3477, 'accessible': 3478, 'windowsbased': 3479, 'macintosh': 3480, 'transferable': 3481, 'portable': 3482, 'ipod': 3483, 'justdrinks': 3484, 'spokesperson': 3485, 'namely': 3486, 'helander': 3487, 'swiftly': 3488, 'reactor': 3489, 'fennovoima': 3490, 'tvo': 3491, 'spite': 3492, 'contest': 3493, 'polytechnic': 3494, 'wholesaler': 3495, 'onetenth': 3496, 'precede': 3497, 'arm': 3498, 'stoppage': 3499, 'atom': 3500, 'processor': 3501, 'tremendous': 3502, 'pankaj': 3503, 'kedia': 3504, 'ecosystem': 3505, 'ultra': 3506, 'evident': 3507, 'particularly': 3508, 'geography': 3509, 'unprofitable': 3510, 'chf': 3511, 'steady': 3512, 'statutory': 3513, 'thyssenkrupp': 3514, 'otis': 3515, 'schindler': 3516, 'allege': 3517, 'twelve': 3518, 'prosecutor': 3519, 'baber': 3520, 'english': 3521, 'sony': 3522, 'ericsson': 3523, 'dominate': 3524, 'bestselling': 3525, 'ia': 3526, 'petrol': 3527, 'wiio': 3528, 'franklin': 3529, 'flsmidth': 3530, 'violate': 3531, 'vacv': 3532, 'southeastern': 3533, 'ise': 3534, 'pvt': 3535, 'consumercustomers': 3536, 'relation': 3537, 'ashley': 3538, 'criticise': 3539, 'cry': 3540, 'baby': 3541, 'kick': 3542, 'morning': 3543, 'divest': 3544, 'noncore': 3545, 'californiabased': 3546, 'fitness': 3547, 'spark': 3548, 'nevadabased': 3549, 'atec': 3550, 'baseball': 3551, 'softball': 3552, 'pitch': 3553, 'db': 3554, 'lindsey': 3555, 'liddell': 3556, 'fact': 3557, 'manyears': 3558, 'uplift': 3559, 'detail': 3560, 'caller': 3561, 'mechanise': 3562, 'eucalyptus': 3563, 'plantation': 3564, 'simdax': 3565, 'authorisation': 3566, 'submit': 3567, 'analyze': 3568, 'fit': 3569, 'peter': 3570, 'wiklof': 3571, 'express': 3572, 'aug': 3573, 'threaten': 3574, 'exploration': 3575, 'admire': 3576, 'vivid': 3577, 'mountain': 3578, 'surf': 3579, 'driver': 3580, 'durham': 3581, 'thief': 3582, 'turun': 3583, 'kaupunkin': 3584, 'talotekniikka': 3585, 'israeli': 3586, 'fttx': 3587, 'israel': 3588, 'wrtsil': 3589, 'michael': 3590, 'frei': 3591, 'bolster': 3592, 'kallioranta': 3593, 'assess': 3594, 'mso': 3595, 'bed': 3596, 'night': 3597, 'bulk': 3598, 'chinese': 3599, 'yronyr': 3600, 'passengerrelated': 3601, 'telekom': 3602, 'simultaneously': 3603, 'adr': 3604, 'maruy': 3605, 'precedex': 3606, 'iv': 3607, 'sedation': 3608, 'intubate': 3609, 'mechanically': 3610, 'ventilate': 3611, 'intensive': 3612, 'relacom': 3613, 'moderate': 3614, 'cvd': 3615, 'marketfinanced': 3616, 'perkonoja': 3617, 'optimize': 3618, 'julia': 3619, 'prohaska': 3620, 'commence': 3621, 'affordable': 3622, 'tco': 3623, 'lubricant': 3624, 'il': 3625, 'moluballoy': 3626, 'tel': 3627, 'nickelzinc': 3628, 'metric': 3629, 'scorecard': 3630, 'date': 3631, 'text': 3632, 'milestonebased': 3633, 'processrelated': 3634, 'technoparks': 3635, 'noon': 3636, 'chicagobased': 3637, 'database': 3638, 'garmin': 3639, 'sir': 3640, 'robert': 3641, 'mcalpine': 3642, 'watermark': 3643, 'bill': 3644, 'technopark': 3645, 'neudorf': 3646, 'village': 3647, 'strelny': 3648, 'yearold': 3649, 'orangehandled': 3650, 'derive': 3651, 'housewares': 3652, 'whilst': 3653, 'ft': 3654, 'premier': 3655, 'inaugurate': 3656, 'weight': 3657, 'log': 3658, 'pulpwood': 3659, 'fidelity': 3660, 'roll': 3661, 'ghana': 3662, 'premise': 3663, 'energyefficient': 3664, 'stateoftheart': 3665, 'judge': 3666, 'veracel': 3667, 'additionally': 3668, 'student': 3669, 'dean': 3670, 'faculty': 3671, 'tkk': 3672, 'proper': 3673, 'celbi': 3674, 'portugal': 3675, 'subdivision': 3676, 'compensate': 3677, 'act': 3678, 'resettlement': 3679, 'fivestar': 3680, 'hilton': 3681, 'room': 3682, 'semiconductor': 3683, 'sensor': 3684, 'mono': 3685, 'crystal': 3686, 'austin': 3687, 'compression': 3688, 'lowerend': 3689, 'highervolume': 3690, 'grapevine': 3691, 'rebate': 3692, 'ethibel': 3693, 'innovest': 3694, 'hdo': 3695, 'cxe': 3696, 'fttb': 3697, 'node': 3698, 'path': 3699, 'transmission': 3700, 'threeday': 3701, 'largely': 3702, 'barrel': 3703, 'amid': 3704, 'strongly': 3705, 'soyoats': 3706, 'aldv': 3707, 'xerox': 3708, 'igen': 3709, 'shortrun': 3710, 'ondemand': 3711, 'recommendable': 3712, 'z': 3713, 'judgement': 3714, 'onodi': 3715, 'stefan': 3716, 'arxikon': 3717, 'span': 3718, 'kemijoki': 3719, 'river': 3720, 'octoberdecember': 3721, 'encourage': 3722, 'boater': 3723, 'angler': 3724, 'newcomer': 3725, 'rbff': 3726, 'frank': 3727, 'peterson': 3728, 'concentrator': 3729, 'siilinjarvi': 3730, 'minera': 3731, 'namibia': 3732, 'walvis': 3733, 'vehvilinen': 3734, 'foremost': 3735, 'redevelopment': 3736, 'mature': 3737, 'capitalize': 3738, 'similar': 3739, 'filter': 3740, 'comfortable': 3741, 'skin': 3742, 'breathe': 3743, 'ecofriendly': 3744, 'definitive': 3745, 'peab': 3746, 'partihallsfrbindelsen': 3747, 'korhonen': 3748, 'editor': 3749, 'lapin': 3750, 'kansa': 3751, 'velimatti': 3752, 'mattila': 3753, 'fear': 3754, 'validate': 3755, 'fgvoip': 3756, 'symbian': 3757, 'southaven': 3758, 'carmaker': 3759, 'hyundai': 3760, 'optimistically': 3761, 'kouvola': 3762, 'ksupermarket': 3763, 'roce': 3764, 'electric': 3765, 'vahur': 3766, 'aforementioned': 3767, 'cd': 3768, 'maturity': 3769, 'frost': 3770, 'unchanged': 3771, 'sizable': 3772, 'dnb': 3773, 'backdrop': 3774, 'meltdown': 3775, 'jawad': 3776, 'williams': 3777, 'score': 3778, 'impressive': 3779, 'debut': 3780, 'jerusalem': 3781, 'jason': 3782, 'yuval': 3783, 'naimi': 3784, 'hapoel': 3785, 'visit': 3786, 'yellowandblue': 3787, 'consistency': 3788, 'throughput': 3789, 'lg': 3790, 'xfnasia': 3791, 'konglisted': 3792, 'lr': 3793, 'twoyear': 3794, 'tarmo': 3795, 'noop': 3796, 'depositary': 3797, 'blue': 3798, 'whitecollar': 3799, 'mongolia': 3800, 'hydrocopper': 3801, 'geographically': 3802, 'taneli': 3803, 'hassinen': 3804, 'kaukomarkkinat': 3805, 'primetass': 3806, 'vsevolozhsk': 3807, 'leningrad': 3808, 'gran': 3809, 'astana': 3810, 'dinmukhamet': 3811, 'idrisov': 3812, 'antti': 3813, 'orkola': 3814, 'depress': 3815, 'volvo': 3816, 'ford': 3817, 'face': 3818, 'suv': 3819, 'surfeit': 3820, 'uptodate': 3821, 'gottahave': 3822, 'kiosk': 3823, 'cinema': 3824, 'mineracao': 3825, 'ltda': 3826, 'cumerio': 3827, 'med': 3828, 'jsco': 3829, 'command': 3830, 'turnbyturn': 3831, 'onstar': 3832, 'phil': 3833, 'magney': 3834, 'telematics': 3835, 'minnetonka': 3836, 'minn': 3837, 'rostelecom': 3838, 'rts': 3839, 'rtkm': 3840, 'painful': 3841, 'suisse': 3842, 'boston': 3843, 'cfsb': 3844, 'literature': 3845, 'unconfirmed': 3846, 'oleary': 3847, 'perth': 3848, 'tail': 3849, 'lule': 3850, 'metre': 3851, 'upset': 3852, 'feedback': 3853, 'rpm': 3854, 'userexperience': 3855, 'belttongroup': 3856, 'awkward': 3857, 'thing': 3858, 'laavainen': 3859, 'reactive': 3860, 'doubledeck': 3861, 'boom': 3862, 'ostrom': 3863, 'story': 3864, 'lure': 3865, 'marilyn': 3866, 'monroe': 3867, 'sakari': 3868, 'tamminen': 3869, 'uncoated': 3870, 'mcc': 3871, 'yinhe': 3872, 'cuttolength': 3873, 'uruguayan': 3874, 'contractor': 3875, 'plummet': 3876, 'penny': 3877, 'arehu': 3878, 'lahtinen': 3879, 'carriage': 3880, 'tallinna': 3881, 'sadam': 3882, 'breakeven': 3883, 'malt': 3884, 'sitronics': 3885, 'jsc': 3886, 'mikron': 3887, 'exporter': 3888, 'microelectronic': 3889, 'operative': 3890, 'mumbai': 3891, 'dictate': 3892, 'januarydecember': 3893, 'administrative': 3894, 'hormone': 3895, 'axa': 3896, 'par': 3897, 'ing': 3898, 'temv': 3899, 'adopt': 3900, 'socalled': 3901, 'eg': 3902, 'gerber': 3903, 'buster': 3904, 'publication': 3905, 'latvenergo': 3906, 'xpower': 3907, 'prefer': 3908, 'pure': 3909, 'active': 3910, 'grapple': 3911, 'bo': 3912, 'annvik': 3913, 'suomussalmi': 3914, 'kuhmo': 3915, 'codetermination': 3916, 'hutchison': 3917, 'essar': 3918, 'modernisation': 3919, 'highspeed': 3920, 'systeemitiimi': 3921, 'skogberg': 3922, 'bts': 3923, 'configure': 3924, 'diagnose': 3925, 'remotely': 3926, 'allonen': 3927, 'overlap': 3928, 'papermaker': 3929, 'alexander': 3930, 'gavrilov': 3931, 'toward': 3932, 'lankapaja': 3933, 'sheetmetal': 3934, 'renewal': 3935, 'turkish': 3936, 'doktas': 3937, 'dokumculuk': 3938, 'ticaret': 3939, 'sanayi': 3940, 'hiab': 3941, 'loader': 3942, 'bae': 3943, 'annum': 3944, 'leach': 3945, 'tower': 3946, 'broadsheet': 3947, 'tabloid': 3948, 'roundtable': 3949, 'rspo': 3950, 'smooth': 3951, 'reel': 3952, 'lifecycle': 3953, 'medical': 3954, 'curve': 3955, 'patricia': 3956, 'dietz': 3957, 'munich': 3958, 'precontract': 3959, 'hectare': 3960, 'euronext': 3961, 'paris': 3962, 'bluechip': 3963, 'standardise': 3964, 'reception': 3965, 'itella': 3966, 'apr': 3967, 'stqv': 3968, 'peri': 3969, 'seawind': 3970, 'en': 3971, 'regal': 3972, 'kapellskar': 3973, 'paldiski': 3974, 'northwestern': 3975, 'cellphone': 3976, 'website': 3977, 'canvas': 3978, 'expression': 3979, 'mobileinspired': 3980, 'sentiment': 3981, 'nilserik': 3982, 'eklund': 3983, 'christmas': 3984, 'till': 3985, 'axe': 3986, 'hampshire': 3987, 'bim': 3988, 'convenient': 3989, 'nearby': 3990, 'jaroszowka': 3991, 'wysockiego': 3992, 'zgody': 3993, 'uncommonly': 3994, 'roger': 3995, 'talermo': 3996, 'morna': 3997, 'cowie': 3998, 'coowner': 3999, 'lovely': 4000, 'impairment': 4001, 'knowledge': 4002, 'hanninen': 4003, 'sarkamies': 4004, 'committee': 4005, 'jon': 4006, 'risfelt': 4007, 'priority': 4008, 'hannu': 4009, 'krook': 4010, 'unrv': 4011, 'authorise': 4012, 'companywide': 4013, 'filippova': 4014, 'trilateral': 4015, 'inhouse': 4016, 'opna': 4017, 'pollex': 4018, 'quickly': 4019, 'fh': 4020, 'freight': 4021, 'centricity': 4022, 'raiso': 4023, 'cholesterol': 4024, 'benecol': 4025, 'manturovo': 4026, 'kostroma': 4027, 'km': 4028, 'northeast': 4029, 'rentakran': 4030, 'alreadyworking': 4031, 'laasanen': 4032, 'normalise': 4033, 'reseller': 4034, 'quote': 4035, 'o': 4036, 'tiev': 4037, 'plunge': 4038, 'creation': 4039, 'worldclass': 4040, 'airport': 4041, 'kemijrvi': 4042, 'cabin': 4043, 'crew': 4044, 'little': 4045, 'disappoint': 4046, 'megapixel': 4047, 'dpad': 4048, 'clickhappy': 4049, 'forever': 4050, 'destia': 4051, 'aulasmaa': 4052, 'pmax': 4053, 'dwt': 4054, 'dark': 4055, 'spot': 4056, 'horizon': 4057, 'obtain': 4058, 'tikkurila': 4059, 'contrary': 4060, 'postimees': 4061, 'mformation': 4062, 'interoperability': 4063, 'standardsbased': 4064, 'silja': 4065, 'attribute': 4066, 'sky': 4067, 'wind': 4068, 'riga': 4069, 'helsinkistockholm': 4070, 'grainbased': 4071, 'newfound': 4072, 'mandate': 4073, 'sponsorship': 4074, 'intellibis': 4075, 'debtfree': 4076, 'competency': 4077, 'intelligence': 4078, 'specialization': 4079, 'recentlyvia': 4080, 'fimentor': 4081}\n"
          ]
        }
      ]
    },
    {
      "cell_type": "code",
      "metadata": {
        "id": "Wzw7XVNnxTVI",
        "colab": {
          "base_uri": "https://localhost:8080/"
        },
        "outputId": "6e406900-4f2b-4d37-8269-5cbef6b8c956"
      },
      "source": [
        "print(news[0])\n",
        "print(encoded_docs[0])"
      ],
      "execution_count": 714,
      "outputs": [
        {
          "output_type": "stream",
          "name": "stdout",
          "text": [
            "close omx helsinki pct low point omx helsinki pct point bln eur turnover\n",
            "[150, 60, 45, 53, 68, 220, 60, 45, 53, 220, 668, 1, 205]\n"
          ]
        }
      ]
    },
    {
      "cell_type": "code",
      "metadata": {
        "id": "eGp0kQOAxYUy",
        "colab": {
          "base_uri": "https://localhost:8080/"
        },
        "outputId": "edc623f4-7284-44ad-e7a1-c07aa8963aea"
      },
      "source": [
        "print(padded_sequence[0])"
      ],
      "execution_count": 715,
      "outputs": [
        {
          "output_type": "stream",
          "name": "stdout",
          "text": [
            "[  0   0   0   0   0   0   0   0   0   0   0   0   0   0   0   0   0   0\n",
            "   0   0   0   0   0   0   0   0   0 150  60  45  53  68 220  60  45  53\n",
            " 220 668   1 205]\n"
          ]
        }
      ]
    },
    {
      "cell_type": "code",
      "metadata": {
        "id": "UOTz2t9d1OAj",
        "colab": {
          "base_uri": "https://localhost:8080/"
        },
        "outputId": "20272e23-1c48-4713-d44e-277441dbfb2d"
      },
      "source": [
        "# Build the model\n",
        "from tensorflow.keras.models import Sequential\n",
        "from tensorflow.keras.layers import LSTM,Dense, Dropout, SpatialDropout1D\n",
        "from tensorflow.keras.layers import Embedding\n",
        "\n",
        "embedding_vector_length = 32\n",
        "model = Sequential() \n",
        "model.add(Embedding(vocab_size, embedding_vector_length, input_length=40) )\n",
        "model.add(SpatialDropout1D(0.25))\n",
        "model.add(LSTM(50, dropout=0.5, recurrent_dropout=0.5))\n",
        "model.add(Dropout(0.2))\n",
        "model.add(Dense(1, activation='sigmoid')) \n",
        "model.compile(loss='binary_crossentropy',optimizer='adam', metrics=['accuracy'])  \n",
        "print(model.summary()) \n"
      ],
      "execution_count": 716,
      "outputs": [
        {
          "output_type": "stream",
          "name": "stdout",
          "text": [
            "Model: \"sequential_35\"\n",
            "_________________________________________________________________\n",
            "Layer (type)                 Output Shape              Param #   \n",
            "=================================================================\n",
            "embedding_35 (Embedding)     (None, 40, 32)            130624    \n",
            "_________________________________________________________________\n",
            "spatial_dropout1d_35 (Spatia (None, 40, 32)            0         \n",
            "_________________________________________________________________\n",
            "lstm_35 (LSTM)               (None, 50)                16600     \n",
            "_________________________________________________________________\n",
            "dropout_35 (Dropout)         (None, 50)                0         \n",
            "_________________________________________________________________\n",
            "dense_35 (Dense)             (None, 1)                 51        \n",
            "=================================================================\n",
            "Total params: 147,275\n",
            "Trainable params: 147,275\n",
            "Non-trainable params: 0\n",
            "_________________________________________________________________\n",
            "None\n"
          ]
        }
      ]
    },
    {
      "cell_type": "code",
      "metadata": {
        "id": "GNEFFGZ46qoF",
        "colab": {
          "base_uri": "https://localhost:8080/",
          "height": 564
        },
        "outputId": "20cabbad-0b9f-4fd6-d8fc-ddb013b7cd9f"
      },
      "source": [
        "from tensorflow.keras.utils import plot_model\n",
        "plot_model(model, to_file='model.png')"
      ],
      "execution_count": 717,
      "outputs": [
        {
          "output_type": "execute_result",
          "data": {
            "image/png": "[encoded data removed]",
            "text/plain": [
              "<IPython.core.display.Image object>"
            ]
          },
          "metadata": {},
          "execution_count": 717
        }
      ]
    },
    {
      "cell_type": "code",
      "metadata": {
        "id": "aG0gmH968qNN",
        "colab": {
          "base_uri": "https://localhost:8080/"
        },
        "outputId": "f2fbbc4f-8b30-4526-ce30-38689db6d4d8"
      },
      "source": [
        "# Entrenamos el modelo\n",
        "history = model.fit(padded_sequence,sentiment_label[0],validation_split=0.2, epochs=8, batch_size=32)"
      ],
      "execution_count": 718,
      "outputs": [
        {
          "output_type": "stream",
          "name": "stdout",
          "text": [
            "Epoch 1/8\n",
            "50/50 [==============================] - 7s 63ms/step - loss: 0.6343 - accuracy: 0.6927 - val_loss: 0.6336 - val_accuracy: 0.6675\n",
            "Epoch 2/8\n",
            "50/50 [==============================] - 3s 57ms/step - loss: 0.5965 - accuracy: 0.6991 - val_loss: 0.6008 - val_accuracy: 0.6675\n",
            "Epoch 3/8\n",
            "50/50 [==============================] - 3s 57ms/step - loss: 0.5082 - accuracy: 0.7430 - val_loss: 0.4439 - val_accuracy: 0.7868\n",
            "Epoch 4/8\n",
            "50/50 [==============================] - 3s 57ms/step - loss: 0.3261 - accuracy: 0.8696 - val_loss: 0.3566 - val_accuracy: 0.8401\n",
            "Epoch 5/8\n",
            "50/50 [==============================] - 3s 55ms/step - loss: 0.2473 - accuracy: 0.9090 - val_loss: 0.3353 - val_accuracy: 0.8579\n",
            "Epoch 6/8\n",
            "50/50 [==============================] - 3s 56ms/step - loss: 0.1957 - accuracy: 0.9268 - val_loss: 0.3135 - val_accuracy: 0.8706\n",
            "Epoch 7/8\n",
            "50/50 [==============================] - 3s 57ms/step - loss: 0.1544 - accuracy: 0.9389 - val_loss: 0.3277 - val_accuracy: 0.8756\n",
            "Epoch 8/8\n",
            "50/50 [==============================] - 3s 56ms/step - loss: 0.1221 - accuracy: 0.9529 - val_loss: 0.3195 - val_accuracy: 0.8629\n"
          ]
        }
      ]
    },
    {
      "cell_type": "code",
      "metadata": {
        "id": "PsMcVduTkBBZ",
        "colab": {
          "base_uri": "https://localhost:8080/",
          "height": 265
        },
        "outputId": "62804ef7-30c3-43ee-961a-8efcef273d8b"
      },
      "source": [
        "from matplotlib import pyplot as plt\n",
        "\n",
        "plt.plot(history.history['accuracy'], label='accuracy')\n",
        "plt.plot(history.history['val_accuracy'], label='val_accuracy')\n",
        "plt.legend()\n",
        "plt.show()"
      ],
      "execution_count": 719,
      "outputs": [
        {
          "output_type": "display_data",
          "data": {
            "image/png": "[encoded data removed]",
            "text/plain": [
              "<Figure size 432x288 with 1 Axes>"
            ]
          },
          "metadata": {
            "needs_background": "light"
          }
        }
      ]
    },
    {
      "cell_type": "code",
      "metadata": {
        "id": "IdNfbKUUsNDm",
        "colab": {
          "base_uri": "https://localhost:8080/",
          "height": 265
        },
        "outputId": "6374c7e7-d412-4650-8cbc-b57e20357536"
      },
      "source": [
        "plt.plot(history.history['loss'], label='loss')\n",
        "plt.plot(history.history['val_loss'], label='val_loss')\n",
        "plt.legend()\n",
        "plt.show()"
      ],
      "execution_count": 720,
      "outputs": [
        {
          "output_type": "display_data",
          "data": {
            "image/png": "[encoded data removed]",
            "text/plain": [
              "<Figure size 432x288 with 1 Axes>"
            ]
          },
          "metadata": {
            "needs_background": "light"
          }
        }
      ]
    },
    {
      "cell_type": "code",
      "metadata": {
        "id": "bkKk-jsW7pWW",
        "colab": {
          "base_uri": "https://localhost:8080/"
        },
        "outputId": "237df545-aaf4-4610-f0aa-b54a89aad97e"
      },
      "source": [
        "test_word =\"This is bad, negative, a tax, horrible. Please classify me as negative!\"\n",
        "tw = tokenizer.texts_to_sequences([test_word])\n",
        "tw"
      ],
      "execution_count": 721,
      "outputs": [
        {
          "output_type": "execute_result",
          "data": {
            "text/plain": [
              "[[3287, 246, 185, 392, 246]]"
            ]
          },
          "metadata": {},
          "execution_count": 721
        }
      ]
    },
    {
      "cell_type": "code",
      "metadata": {
        "id": "WKSHH3yFwa9u",
        "colab": {
          "base_uri": "https://localhost:8080/"
        },
        "outputId": "a087a5ad-af26-44b9-8bd0-8ab466c8717e"
      },
      "source": [
        "tw = pad_sequences(tw, maxlen=40)\n",
        "tw"
      ],
      "execution_count": 722,
      "outputs": [
        {
          "output_type": "execute_result",
          "data": {
            "text/plain": [
              "array([[   0,    0,    0,    0,    0,    0,    0,    0,    0,    0,    0,\n",
              "           0,    0,    0,    0,    0,    0,    0,    0,    0,    0,    0,\n",
              "           0,    0,    0,    0,    0,    0,    0,    0,    0,    0,    0,\n",
              "           0,    0, 3287,  246,  185,  392,  246]], dtype=int32)"
            ]
          },
          "metadata": {},
          "execution_count": 722
        }
      ]
    },
    {
      "cell_type": "code",
      "metadata": {
        "id": "zcK3N7uHwf7r"
      },
      "source": [
        "prediction = int(model.predict(tw).round().item())"
      ],
      "execution_count": 723,
      "outputs": []
    },
    {
      "cell_type": "code",
      "metadata": {
        "id": "pxAnHterwlbE",
        "colab": {
          "base_uri": "https://localhost:8080/",
          "height": 35
        },
        "outputId": "df586fd6-bbf5-4271-c1aa-6ffbe4c5f64b"
      },
      "source": [
        "sentiment_label[1][prediction]"
      ],
      "execution_count": 724,
      "outputs": [
        {
          "output_type": "execute_result",
          "data": {
            "application/vnd.google.colaboratory.intrinsic+json": {
              "type": "string"
            },
            "text/plain": [
              "'negative'"
            ]
          },
          "metadata": {},
          "execution_count": 724
        }
      ]
    },
    {
      "cell_type": "markdown",
      "metadata": {
        "id": "Ln1u06FC-eYa"
      },
      "source": [
        "##Conclusión\n",
        "\n",
        "El modelo resultante obtenido usando redes neuronales con keras es significativamente mejor que el obtenido con los algoritmos más básicos y simples de ML que utilizamos en la entrega 3."
      ]
    },
    {
      "cell_type": "markdown",
      "metadata": {
        "id": "k2ZFcWNcBChy"
      },
      "source": [
        "**Enlace de referencia:**\n",
        "\n",
        "Práctico: https://medium.datadriveninvestor.com/deep-learning-lstm-for-sentiment-analysis-in-tensorflow-with-keras-api-92e62cde7626\n",
        "\n",
        "Explicación LSTM: https://medium.com/mlearning-ai/sentiment-analysis-using-lstm-21767a130857\n"
      ]
    }
  ]
}