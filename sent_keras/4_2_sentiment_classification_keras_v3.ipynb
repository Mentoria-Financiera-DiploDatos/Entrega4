{
  "nbformat": 4,
  "nbformat_minor": 0,
  "metadata": {
    "colab": {
      "name": "4.2_ LSTM_sentimientos.ipynb",
      "provenance": [],
      "collapsed_sections": [
        "Az1peTPmNfPd"
      ]
    },
    "kernelspec": {
      "name": "python3",
      "display_name": "Python 3"
    }
  },
  "cells": [
    {
      "cell_type": "markdown",
      "metadata": {
        "id": "k2ZFcWNcBChy"
      },
      "source": [
        "# Clasificación de sentimientos utilizando LSTM y Keras\n",
        "\n",
        "La clasificación del dataset de sentimientos fue realizada teniendo como guía [este artículo.](https://medium.datadriveninvestor.com/deep-learning-lstm-for-sentiment-analysis-in-tensorflow-with-keras-api-92e62cde7626) Por otra parte se realizó la clasificación de sentimientos utlizando las noticias procesadas y sin procesar."
      ]
    },
    {
      "cell_type": "code",
      "metadata": {
        "id": "M-GtyC-MveAN",
        "colab": {
          "base_uri": "https://localhost:8080/",
          "height": 314
        },
        "outputId": "3724544e-1c95-494d-ebc2-78733d23e1d1"
      },
      "source": [
        "import pandas as pd\n",
        "import numpy as np\n",
        "df = pd.read_csv(\"https://raw.githubusercontent.com/Mentoria-Financiera-DiploDatos/Entrega3/master/sentimientos/data/feeling_procesado.csv\")\n",
        "print(df.news.size)\n",
        "df.head(8)"
      ],
      "execution_count": 85,
      "outputs": [
        {
          "output_type": "stream",
          "name": "stdout",
          "text": [
            "4838\n"
          ]
        },
        {
          "output_type": "execute_result",
          "data": {
            "text/html": [
              "<div>\n",
              "<style scoped>\n",
              "    .dataframe tbody tr th:only-of-type {\n",
              "        vertical-align: middle;\n",
              "    }\n",
              "\n",
              "    .dataframe tbody tr th {\n",
              "        vertical-align: top;\n",
              "    }\n",
              "\n",
              "    .dataframe thead th {\n",
              "        text-align: right;\n",
              "    }\n",
              "</style>\n",
              "<table border=\"1\" class=\"dataframe\">\n",
              "  <thead>\n",
              "    <tr style=\"text-align: right;\">\n",
              "      <th></th>\n",
              "      <th>Unnamed: 0</th>\n",
              "      <th>feeling</th>\n",
              "      <th>news</th>\n",
              "      <th>news_tokens</th>\n",
              "      <th>news_tokens_tagged</th>\n",
              "    </tr>\n",
              "  </thead>\n",
              "  <tbody>\n",
              "    <tr>\n",
              "      <th>0</th>\n",
              "      <td>0</td>\n",
              "      <td>neutral</td>\n",
              "      <td>According to Gran , the company has no plans t...</td>\n",
              "      <td>['accord', 'gran', 'company', 'plan', 'move', ...</td>\n",
              "      <td>[('accord', 'NN'), ('gran', 'VBD'), ('company'...</td>\n",
              "    </tr>\n",
              "    <tr>\n",
              "      <th>1</th>\n",
              "      <td>1</td>\n",
              "      <td>neutral</td>\n",
              "      <td>Technopolis plans to develop in stages an area...</td>\n",
              "      <td>['technopolis', 'plan', 'develop', 'stage', 'a...</td>\n",
              "      <td>[('technopolis', 'NN'), ('plan', 'NN'), ('deve...</td>\n",
              "    </tr>\n",
              "    <tr>\n",
              "      <th>2</th>\n",
              "      <td>2</td>\n",
              "      <td>negative</td>\n",
              "      <td>The international electronic industry company ...</td>\n",
              "      <td>['international', 'electronic', 'industry', 'c...</td>\n",
              "      <td>[('international', 'JJ'), ('electronic', 'JJ')...</td>\n",
              "    </tr>\n",
              "    <tr>\n",
              "      <th>3</th>\n",
              "      <td>3</td>\n",
              "      <td>positive</td>\n",
              "      <td>With the new production plant the company woul...</td>\n",
              "      <td>['new', 'production', 'plant', 'company', 'wou...</td>\n",
              "      <td>[('new', 'JJ'), ('production', 'NN'), ('plant'...</td>\n",
              "    </tr>\n",
              "    <tr>\n",
              "      <th>4</th>\n",
              "      <td>4</td>\n",
              "      <td>positive</td>\n",
              "      <td>According to the company 's updated strategy f...</td>\n",
              "      <td>['accord', 'company', 'update', 'strategy', 'y...</td>\n",
              "      <td>[('accord', 'NN'), ('company', 'NN'), ('update...</td>\n",
              "    </tr>\n",
              "    <tr>\n",
              "      <th>5</th>\n",
              "      <td>5</td>\n",
              "      <td>positive</td>\n",
              "      <td>FINANCING OF ASPOCOMP 'S GROWTH Aspocomp is ag...</td>\n",
              "      <td>['finance', 'aspocomp', 'growth', 'aspocomp', ...</td>\n",
              "      <td>[('finance', 'NN'), ('aspocomp', 'NN'), ('grow...</td>\n",
              "    </tr>\n",
              "    <tr>\n",
              "      <th>6</th>\n",
              "      <td>6</td>\n",
              "      <td>positive</td>\n",
              "      <td>For the last quarter of 2010 , Componenta 's n...</td>\n",
              "      <td>['last', 'quarter', 'componenta', 'net', 'sale...</td>\n",
              "      <td>[('last', 'JJ'), ('quarter', 'NN'), ('componen...</td>\n",
              "    </tr>\n",
              "    <tr>\n",
              "      <th>7</th>\n",
              "      <td>7</td>\n",
              "      <td>positive</td>\n",
              "      <td>In the third quarter of 2010 , net sales incre...</td>\n",
              "      <td>['third', 'quarter', 'net', 'sale', 'increase'...</td>\n",
              "      <td>[('third', 'JJ'), ('quarter', 'NN'), ('net', '...</td>\n",
              "    </tr>\n",
              "  </tbody>\n",
              "</table>\n",
              "</div>"
            ],
            "text/plain": [
              "   Unnamed: 0  ...                                 news_tokens_tagged\n",
              "0           0  ...  [('accord', 'NN'), ('gran', 'VBD'), ('company'...\n",
              "1           1  ...  [('technopolis', 'NN'), ('plan', 'NN'), ('deve...\n",
              "2           2  ...  [('international', 'JJ'), ('electronic', 'JJ')...\n",
              "3           3  ...  [('new', 'JJ'), ('production', 'NN'), ('plant'...\n",
              "4           4  ...  [('accord', 'NN'), ('company', 'NN'), ('update...\n",
              "5           5  ...  [('finance', 'NN'), ('aspocomp', 'NN'), ('grow...\n",
              "6           6  ...  [('last', 'JJ'), ('quarter', 'NN'), ('componen...\n",
              "7           7  ...  [('third', 'JJ'), ('quarter', 'NN'), ('net', '...\n",
              "\n",
              "[8 rows x 5 columns]"
            ]
          },
          "metadata": {},
          "execution_count": 85
        }
      ]
    },
    {
      "cell_type": "markdown",
      "metadata": {
        "id": "apNRot6D1Hp2"
      },
      "source": [
        "Se aleatorizaron las filas para remover el agrupamiento dado por la columna ´feeling´ y así evitar problemas al entrenar el modelo."
      ]
    },
    {
      "cell_type": "code",
      "metadata": {
        "id": "RTDdCXJ2wkzL",
        "colab": {
          "base_uri": "https://localhost:8080/",
          "height": 297
        },
        "outputId": "64a89af8-088e-40e7-a422-7bfc8c572a77"
      },
      "source": [
        "# Mezclamos con sample ya que los sentimientos están bastante agrupados en el\n",
        "#  dataset y esto genera problemas luego a la hora de entrenar el modelo.\n",
        "df = df.sample(frac=1, random_state=0).reset_index(drop=True)\n",
        "df.head(8)"
      ],
      "execution_count": 86,
      "outputs": [
        {
          "output_type": "execute_result",
          "data": {
            "text/html": [
              "<div>\n",
              "<style scoped>\n",
              "    .dataframe tbody tr th:only-of-type {\n",
              "        vertical-align: middle;\n",
              "    }\n",
              "\n",
              "    .dataframe tbody tr th {\n",
              "        vertical-align: top;\n",
              "    }\n",
              "\n",
              "    .dataframe thead th {\n",
              "        text-align: right;\n",
              "    }\n",
              "</style>\n",
              "<table border=\"1\" class=\"dataframe\">\n",
              "  <thead>\n",
              "    <tr style=\"text-align: right;\">\n",
              "      <th></th>\n",
              "      <th>Unnamed: 0</th>\n",
              "      <th>feeling</th>\n",
              "      <th>news</th>\n",
              "      <th>news_tokens</th>\n",
              "      <th>news_tokens_tagged</th>\n",
              "    </tr>\n",
              "  </thead>\n",
              "  <tbody>\n",
              "    <tr>\n",
              "      <th>0</th>\n",
              "      <td>2343</td>\n",
              "      <td>neutral</td>\n",
              "      <td>Raute , headquartered in Nastola , Finland , i...</td>\n",
              "      <td>['raute', 'headquarter', 'nastola', 'finland',...</td>\n",
              "      <td>[('raute', 'NN'), ('headquarter', 'NN'), ('nas...</td>\n",
              "    </tr>\n",
              "    <tr>\n",
              "      <th>1</th>\n",
              "      <td>2803</td>\n",
              "      <td>positive</td>\n",
              "      <td>And earlier this month , the company signed a ...</td>\n",
              "      <td>['early', 'month', 'company', 'sign', 'deal', ...</td>\n",
              "      <td>[('early', 'JJ'), ('month', 'NN'), ('company',...</td>\n",
              "    </tr>\n",
              "    <tr>\n",
              "      <th>2</th>\n",
              "      <td>3825</td>\n",
              "      <td>neutral</td>\n",
              "      <td>The divested activities had net sales of EUR 1...</td>\n",
              "      <td>['divest', 'activity', 'net', 'sale', 'eur', '...</td>\n",
              "      <td>[('divest', 'JJS'), ('activity', 'NN'), ('net'...</td>\n",
              "    </tr>\n",
              "    <tr>\n",
              "      <th>3</th>\n",
              "      <td>4437</td>\n",
              "      <td>negative</td>\n",
              "      <td>`` We can say that the number of deals has bec...</td>\n",
              "      <td>['say', 'number', 'deal', 'become', 'normalize...</td>\n",
              "      <td>[('say', 'VB'), ('number', 'NN'), ('deal', 'NN...</td>\n",
              "    </tr>\n",
              "    <tr>\n",
              "      <th>4</th>\n",
              "      <td>4802</td>\n",
              "      <td>neutral</td>\n",
              "      <td>The manager is critical of politicians ' failu...</td>\n",
              "      <td>['manager', 'critical', 'politician', 'failure...</td>\n",
              "      <td>[('manager', 'NN'), ('critical', 'JJ'), ('poli...</td>\n",
              "    </tr>\n",
              "    <tr>\n",
              "      <th>5</th>\n",
              "      <td>3575</td>\n",
              "      <td>neutral</td>\n",
              "      <td>Eero Katajavuori , currently Group Vice Presid...</td>\n",
              "      <td>['eero', 'katajavuori', 'currently', 'group', ...</td>\n",
              "      <td>[('eero', 'NN'), ('katajavuori', 'NNS'), ('cur...</td>\n",
              "    </tr>\n",
              "    <tr>\n",
              "      <th>6</th>\n",
              "      <td>849</td>\n",
              "      <td>positive</td>\n",
              "      <td>However , the broker gave an `` outperform '' ...</td>\n",
              "      <td>['however', 'broke', 'give', 'outperform', 're...</td>\n",
              "      <td>[('however', 'RB'), ('broke', 'VBD'), ('give',...</td>\n",
              "    </tr>\n",
              "    <tr>\n",
              "      <th>7</th>\n",
              "      <td>2374</td>\n",
              "      <td>negative</td>\n",
              "      <td>Finnish plumbing and heating systems supplier ...</td>\n",
              "      <td>['finnish', 'plumb', 'heat', 'system', 'suppli...</td>\n",
              "      <td>[('finnish', 'JJ'), ('plumb', 'NN'), ('heat', ...</td>\n",
              "    </tr>\n",
              "  </tbody>\n",
              "</table>\n",
              "</div>"
            ],
            "text/plain": [
              "   Unnamed: 0  ...                                 news_tokens_tagged\n",
              "0        2343  ...  [('raute', 'NN'), ('headquarter', 'NN'), ('nas...\n",
              "1        2803  ...  [('early', 'JJ'), ('month', 'NN'), ('company',...\n",
              "2        3825  ...  [('divest', 'JJS'), ('activity', 'NN'), ('net'...\n",
              "3        4437  ...  [('say', 'VB'), ('number', 'NN'), ('deal', 'NN...\n",
              "4        4802  ...  [('manager', 'NN'), ('critical', 'JJ'), ('poli...\n",
              "5        3575  ...  [('eero', 'NN'), ('katajavuori', 'NNS'), ('cur...\n",
              "6         849  ...  [('however', 'RB'), ('broke', 'VBD'), ('give',...\n",
              "7        2374  ...  [('finnish', 'JJ'), ('plumb', 'NN'), ('heat', ...\n",
              "\n",
              "[8 rows x 5 columns]"
            ]
          },
          "metadata": {},
          "execution_count": 86
        }
      ]
    },
    {
      "cell_type": "markdown",
      "metadata": {
        "id": "Qwh63lLC3UhF"
      },
      "source": [
        "Se remueve aquellas etiquetadas con´neutral´ para obtener mejores resultados en la clasificación. Además, se había observado previamente en [´03_ML_TFidf.ipynb´](https://github.com/Mentoria-Financiera-DiploDatos/Entrega3/blob/master/sentimientos/03_ML_TFidf.ipynb), algunas de las palabras mas asociadas a sentimiento ´neutral´ también fueron palabras asociadas al resto de los sentimiento (ej. rise y loss)."
      ]
    },
    {
      "cell_type": "code",
      "metadata": {
        "id": "ctHsKPkPwuPO",
        "colab": {
          "base_uri": "https://localhost:8080/"
        },
        "outputId": "8a24e4fc-580e-45e2-cf5a-bea303264a89"
      },
      "source": [
        "# convert feeling to numeric\n",
        "df = df[df['feeling'] != 'neutral'].reset_index(drop=True)\n",
        "print(df.feeling.size)"
      ],
      "execution_count": 87,
      "outputs": [
        {
          "output_type": "stream",
          "name": "stdout",
          "text": [
            "1966\n"
          ]
        }
      ]
    },
    {
      "cell_type": "markdown",
      "metadata": {
        "id": "mSB2QQz5wOeu"
      },
      "source": [
        "## Noticias no procesadas"
      ]
    },
    {
      "cell_type": "markdown",
      "metadata": {
        "id": "mHg_7Kmtw5AK"
      },
      "source": [
        "Se seleccionan las columnas de interés."
      ]
    },
    {
      "cell_type": "code",
      "metadata": {
        "id": "QppGtSAGwVmR"
      },
      "source": [
        "news_df = df[['feeling', 'news']]"
      ],
      "execution_count": 88,
      "outputs": []
    },
    {
      "cell_type": "code",
      "metadata": {
        "colab": {
          "base_uri": "https://localhost:8080/",
          "height": 297
        },
        "id": "zzBsMZUQ8js2",
        "outputId": "5d405269-e9c8-4bd6-efcc-88bd92bf81ea"
      },
      "source": [
        "news_df.head(8)"
      ],
      "execution_count": 89,
      "outputs": [
        {
          "output_type": "execute_result",
          "data": {
            "text/html": [
              "<div>\n",
              "<style scoped>\n",
              "    .dataframe tbody tr th:only-of-type {\n",
              "        vertical-align: middle;\n",
              "    }\n",
              "\n",
              "    .dataframe tbody tr th {\n",
              "        vertical-align: top;\n",
              "    }\n",
              "\n",
              "    .dataframe thead th {\n",
              "        text-align: right;\n",
              "    }\n",
              "</style>\n",
              "<table border=\"1\" class=\"dataframe\">\n",
              "  <thead>\n",
              "    <tr style=\"text-align: right;\">\n",
              "      <th></th>\n",
              "      <th>feeling</th>\n",
              "      <th>news</th>\n",
              "    </tr>\n",
              "  </thead>\n",
              "  <tbody>\n",
              "    <tr>\n",
              "      <th>0</th>\n",
              "      <td>positive</td>\n",
              "      <td>And earlier this month , the company signed a ...</td>\n",
              "    </tr>\n",
              "    <tr>\n",
              "      <th>1</th>\n",
              "      <td>negative</td>\n",
              "      <td>`` We can say that the number of deals has bec...</td>\n",
              "    </tr>\n",
              "    <tr>\n",
              "      <th>2</th>\n",
              "      <td>positive</td>\n",
              "      <td>However , the broker gave an `` outperform '' ...</td>\n",
              "    </tr>\n",
              "    <tr>\n",
              "      <th>3</th>\n",
              "      <td>negative</td>\n",
              "      <td>Finnish plumbing and heating systems supplier ...</td>\n",
              "    </tr>\n",
              "    <tr>\n",
              "      <th>4</th>\n",
              "      <td>negative</td>\n",
              "      <td>ADPnews - Sep 28 , 2009 - Finnish silicon wafe...</td>\n",
              "    </tr>\n",
              "    <tr>\n",
              "      <th>5</th>\n",
              "      <td>positive</td>\n",
              "      <td>Net sales went up by 1 % year-on-year to EUR 2...</td>\n",
              "    </tr>\n",
              "    <tr>\n",
              "      <th>6</th>\n",
              "      <td>positive</td>\n",
              "      <td>The District Court of Helsinki dismissed all c...</td>\n",
              "    </tr>\n",
              "    <tr>\n",
              "      <th>7</th>\n",
              "      <td>positive</td>\n",
              "      <td>Net sales totaled EUR 93.6 mn , up from EUR 93...</td>\n",
              "    </tr>\n",
              "  </tbody>\n",
              "</table>\n",
              "</div>"
            ],
            "text/plain": [
              "    feeling                                               news\n",
              "0  positive  And earlier this month , the company signed a ...\n",
              "1  negative  `` We can say that the number of deals has bec...\n",
              "2  positive  However , the broker gave an `` outperform '' ...\n",
              "3  negative  Finnish plumbing and heating systems supplier ...\n",
              "4  negative  ADPnews - Sep 28 , 2009 - Finnish silicon wafe...\n",
              "5  positive  Net sales went up by 1 % year-on-year to EUR 2...\n",
              "6  positive  The District Court of Helsinki dismissed all c...\n",
              "7  positive  Net sales totaled EUR 93.6 mn , up from EUR 93..."
            ]
          },
          "metadata": {},
          "execution_count": 89
        }
      ]
    },
    {
      "cell_type": "code",
      "metadata": {
        "id": "ncQD9DOc9ob-"
      },
      "source": [
        "# Convert feeling to numeric\n",
        "sentiment_label = news_df.feeling.factorize()"
      ],
      "execution_count": 90,
      "outputs": []
    },
    {
      "cell_type": "code",
      "metadata": {
        "colab": {
          "base_uri": "https://localhost:8080/"
        },
        "id": "9fHOZfdqM4mB",
        "outputId": "eb725047-0dda-4477-ad2f-133977d39245"
      },
      "source": [
        "contador = 0\n",
        "for i in range(news_df.news.size):\n",
        "    temp_list = news_df.news[i].split()\n",
        "    temp_contador = 0\n",
        "    for j in temp_list:\n",
        "        temp_contador+=1\n",
        "    if temp_contador>contador:\n",
        "        contador = temp_contador\n",
        "\n",
        "contador"
      ],
      "execution_count": 91,
      "outputs": [
        {
          "output_type": "execute_result",
          "data": {
            "text/plain": [
              "57"
            ]
          },
          "metadata": {},
          "execution_count": 91
        }
      ]
    },
    {
      "cell_type": "markdown",
      "metadata": {
        "id": "iGJv9sfd8mbX"
      },
      "source": [
        "Se tokenizan las noticias y se las tranforman a un numpy.array para poder ser luego ingresado dentro de la red neuronal. Utilizamos un maxlen de 60 ya que con los textos sin preprocesar la noticia con más palabras tiene 57 palabras."
      ]
    },
    {
      "cell_type": "code",
      "metadata": {
        "id": "W7Y54Xm3w7As"
      },
      "source": [
        "from tensorflow.keras.preprocessing.text import Tokenizer\n",
        "from tensorflow.keras.preprocessing.sequence import pad_sequences\n",
        "\n",
        "news = news_df.news.values\n",
        "tokenizer = Tokenizer(num_words=5000)\n",
        "tokenizer.fit_on_texts(news)\n",
        "vocab_size = len(tokenizer.word_index) + 1\n",
        "encoded_docs = tokenizer.texts_to_sequences(news)\n",
        "padded_sequence = pad_sequences(encoded_docs, maxlen=60)"
      ],
      "execution_count": 92,
      "outputs": []
    },
    {
      "cell_type": "markdown",
      "metadata": {
        "id": "WdHt4c3k882v"
      },
      "source": [
        "Se transformaron los indices de cada palabra que estaban en un diccionario en un dataframe para visualizar que los _stopwords_ no fueron removidos."
      ]
    },
    {
      "cell_type": "code",
      "metadata": {
        "colab": {
          "base_uri": "https://localhost:8080/",
          "height": 359
        },
        "id": "I3Kjj8Jf5LTh",
        "outputId": "100cd774-fa16-42c8-f445-552ae4a5c042"
      },
      "source": [
        "tokens= pd.DataFrame.from_dict(tokenizer.word_index, orient='index', columns=['num'])\n",
        "tokens.head(10)"
      ],
      "execution_count": 93,
      "outputs": [
        {
          "output_type": "execute_result",
          "data": {
            "text/html": [
              "<div>\n",
              "<style scoped>\n",
              "    .dataframe tbody tr th:only-of-type {\n",
              "        vertical-align: middle;\n",
              "    }\n",
              "\n",
              "    .dataframe tbody tr th {\n",
              "        vertical-align: top;\n",
              "    }\n",
              "\n",
              "    .dataframe thead th {\n",
              "        text-align: right;\n",
              "    }\n",
              "</style>\n",
              "<table border=\"1\" class=\"dataframe\">\n",
              "  <thead>\n",
              "    <tr style=\"text-align: right;\">\n",
              "      <th></th>\n",
              "      <th>num</th>\n",
              "    </tr>\n",
              "  </thead>\n",
              "  <tbody>\n",
              "    <tr>\n",
              "      <th>the</th>\n",
              "      <td>1</td>\n",
              "    </tr>\n",
              "    <tr>\n",
              "      <th>in</th>\n",
              "      <td>2</td>\n",
              "    </tr>\n",
              "    <tr>\n",
              "      <th>of</th>\n",
              "      <td>3</td>\n",
              "    </tr>\n",
              "    <tr>\n",
              "      <th>to</th>\n",
              "      <td>4</td>\n",
              "    </tr>\n",
              "    <tr>\n",
              "      <th>and</th>\n",
              "      <td>5</td>\n",
              "    </tr>\n",
              "    <tr>\n",
              "      <th>eur</th>\n",
              "      <td>6</td>\n",
              "    </tr>\n",
              "    <tr>\n",
              "      <th>a</th>\n",
              "      <td>7</td>\n",
              "    </tr>\n",
              "    <tr>\n",
              "      <th>from</th>\n",
              "      <td>8</td>\n",
              "    </tr>\n",
              "    <tr>\n",
              "      <th>for</th>\n",
              "      <td>9</td>\n",
              "    </tr>\n",
              "    <tr>\n",
              "      <th>mn</th>\n",
              "      <td>10</td>\n",
              "    </tr>\n",
              "  </tbody>\n",
              "</table>\n",
              "</div>"
            ],
            "text/plain": [
              "      num\n",
              "the     1\n",
              "in      2\n",
              "of      3\n",
              "to      4\n",
              "and     5\n",
              "eur     6\n",
              "a       7\n",
              "from    8\n",
              "for     9\n",
              "mn     10"
            ]
          },
          "metadata": {},
          "execution_count": 93
        }
      ]
    },
    {
      "cell_type": "code",
      "metadata": {
        "id": "NTauImgkrAPz",
        "colab": {
          "base_uri": "https://localhost:8080/"
        },
        "outputId": "43abae4d-cabd-47a4-e571-30034b36bf13"
      },
      "source": [
        "print(\"Palabras con las noticias sin el preprocesado:\", vocab_size)"
      ],
      "execution_count": 94,
      "outputs": [
        {
          "output_type": "stream",
          "name": "stdout",
          "text": [
            "Palabras con las noticias sin el preprocesado: 5535\n"
          ]
        }
      ]
    },
    {
      "cell_type": "code",
      "metadata": {
        "id": "Wzw7XVNnxTVI",
        "colab": {
          "base_uri": "https://localhost:8080/"
        },
        "outputId": "6e4a53f8-d11d-4b7a-854e-3f5512b8dcb9"
      },
      "source": [
        "print(news[0])\n",
        "print(encoded_docs[0])"
      ],
      "execution_count": 95,
      "outputs": [
        {
          "output_type": "stream",
          "name": "stdout",
          "text": [
            "And earlier this month , the company signed a deal with India-based information technology services giant Wipro Technologies to transfer and sell its radio access related R&D activities in Berlin .\n",
            "[5, 91, 80, 139, 1, 13, 100, 7, 347, 26, 440, 128, 441, 94, 84, 2613, 2614, 567, 4, 994, 5, 678, 14, 1156, 1400, 568, 760, 761, 762, 2, 2615]\n"
          ]
        }
      ]
    },
    {
      "cell_type": "code",
      "metadata": {
        "id": "eGp0kQOAxYUy",
        "colab": {
          "base_uri": "https://localhost:8080/"
        },
        "outputId": "4b67987f-11e2-49c5-ae54-a9b5e3260fdb"
      },
      "source": [
        "print(padded_sequence[0])"
      ],
      "execution_count": 96,
      "outputs": [
        {
          "output_type": "stream",
          "name": "stdout",
          "text": [
            "[   0    0    0    0    0    0    0    0    0    0    0    0    0    0\n",
            "    0    0    0    0    0    0    0    0    0    0    0    0    0    0\n",
            "    0    5   91   80  139    1   13  100    7  347   26  440  128  441\n",
            "   94   84 2613 2614  567    4  994    5  678   14 1156 1400  568  760\n",
            "  761  762    2 2615]\n"
          ]
        }
      ]
    },
    {
      "cell_type": "markdown",
      "metadata": {
        "id": "FRyfV22Q-9hA"
      },
      "source": [
        "  Con el fin de obtener también las métricas de _recall_, _precision_ y _f1_ se definieron las siguientes funciones y luego se los incluyo en el modelo final."
      ]
    },
    {
      "cell_type": "code",
      "metadata": {
        "id": "iBUV4r30_Qrf"
      },
      "source": [
        "from keras import backend as K\n",
        "\n",
        "def recall_m(y_true, y_pred):\n",
        "    true_positives = K.sum(K.round(K.clip(y_true * y_pred, 0, 1)))\n",
        "    possible_positives = K.sum(K.round(K.clip(y_true, 0, 1)))\n",
        "    recall = true_positives / (possible_positives + K.epsilon())\n",
        "    return recall\n",
        "\n",
        "def precision_m(y_true, y_pred):\n",
        "    true_positives = K.sum(K.round(K.clip(y_true * y_pred, 0, 1)))\n",
        "    predicted_positives = K.sum(K.round(K.clip(y_pred, 0, 1)))\n",
        "    precision = true_positives / (predicted_positives + K.epsilon())\n",
        "    return precision\n",
        "\n",
        "def f1_m(y_true, y_pred):\n",
        "    precision = precision_m(y_true, y_pred)\n",
        "    recall = recall_m(y_true, y_pred)\n",
        "    return 2*((precision*recall)/(precision+recall+K.epsilon()))"
      ],
      "execution_count": 97,
      "outputs": []
    },
    {
      "cell_type": "code",
      "metadata": {
        "id": "UOTz2t9d1OAj",
        "colab": {
          "base_uri": "https://localhost:8080/"
        },
        "outputId": "6135f203-1cb2-43ce-89f2-de8ad074eab1"
      },
      "source": [
        "# Build the model\n",
        "from tensorflow.keras.models import Sequential\n",
        "from tensorflow.keras.layers import LSTM,Dense, Dropout, SpatialDropout1D\n",
        "from tensorflow.keras.layers import Embedding\n",
        "\n",
        "embedding_vector_length = 32\n",
        "model = Sequential() \n",
        "model.add(Embedding(vocab_size, embedding_vector_length, input_length=60) )\n",
        "model.add(SpatialDropout1D(0.25))\n",
        "model.add(LSTM(50, dropout=0.5, recurrent_dropout=0.5))\n",
        "model.add(Dropout(0.2))\n",
        "model.add(Dense(1, activation='sigmoid')) \n",
        "model.compile(loss='binary_crossentropy',optimizer='adam', metrics=['acc',f1_m,precision_m, recall_m])  \n",
        "print(model.summary()) \n"
      ],
      "execution_count": 98,
      "outputs": [
        {
          "output_type": "stream",
          "name": "stdout",
          "text": [
            "Model: \"sequential_4\"\n",
            "_________________________________________________________________\n",
            "Layer (type)                 Output Shape              Param #   \n",
            "=================================================================\n",
            "embedding_4 (Embedding)      (None, 60, 32)            177120    \n",
            "_________________________________________________________________\n",
            "spatial_dropout1d_4 (Spatial (None, 60, 32)            0         \n",
            "_________________________________________________________________\n",
            "lstm_4 (LSTM)                (None, 50)                16600     \n",
            "_________________________________________________________________\n",
            "dropout_4 (Dropout)          (None, 50)                0         \n",
            "_________________________________________________________________\n",
            "dense_4 (Dense)              (None, 1)                 51        \n",
            "=================================================================\n",
            "Total params: 193,771\n",
            "Trainable params: 193,771\n",
            "Non-trainable params: 0\n",
            "_________________________________________________________________\n",
            "None\n"
          ]
        }
      ]
    },
    {
      "cell_type": "code",
      "metadata": {
        "id": "GNEFFGZ46qoF",
        "colab": {
          "base_uri": "https://localhost:8080/",
          "height": 564
        },
        "outputId": "cb523954-ba9c-4a5f-80bf-89325df35ba6"
      },
      "source": [
        "from tensorflow.keras.utils import plot_model\n",
        "plot_model(model, to_file='model.png')"
      ],
      "execution_count": 99,
      "outputs": [
        {
          "output_type": "execute_result",
          "data": {
            "image/png": "[encoded data removed]",
            "text/plain": [
              "<IPython.core.display.Image object>"
            ]
          },
          "metadata": {},
          "execution_count": 99
        }
      ]
    },
    {
      "cell_type": "code",
      "metadata": {
        "id": "aG0gmH968qNN",
        "colab": {
          "base_uri": "https://localhost:8080/"
        },
        "outputId": "d57cf848-233e-4d37-cb5c-2fc4929ae807"
      },
      "source": [
        "history = model.fit(padded_sequence,sentiment_label[0],validation_split=0.2, epochs=8, batch_size=32)"
      ],
      "execution_count": 100,
      "outputs": [
        {
          "output_type": "stream",
          "name": "stdout",
          "text": [
            "Epoch 1/8\n",
            "50/50 [==============================] - 8s 82ms/step - loss: 0.6267 - acc: 0.6877 - f1_m: 0.0283 - precision_m: 0.0425 - recall_m: 0.0301 - val_loss: 0.6267 - val_acc: 0.6878 - val_f1_m: 0.0000e+00 - val_precision_m: 0.0000e+00 - val_recall_m: 0.0000e+00\n",
            "Epoch 2/8\n",
            "50/50 [==============================] - 4s 75ms/step - loss: 0.5849 - acc: 0.6953 - f1_m: 0.0272 - precision_m: 0.1000 - recall_m: 0.0160 - val_loss: 0.5529 - val_acc: 0.7056 - val_f1_m: 0.1387 - val_precision_m: 0.4615 - val_recall_m: 0.0896\n",
            "Epoch 3/8\n",
            "50/50 [==============================] - 4s 73ms/step - loss: 0.4168 - acc: 0.8104 - f1_m: 0.5675 - precision_m: 0.7821 - recall_m: 0.5058 - val_loss: 0.4901 - val_acc: 0.7868 - val_f1_m: 0.5871 - val_precision_m: 0.7510 - val_recall_m: 0.5140\n",
            "Epoch 4/8\n",
            "50/50 [==============================] - 4s 74ms/step - loss: 0.2809 - acc: 0.9008 - f1_m: 0.8194 - precision_m: 0.8328 - recall_m: 0.8232 - val_loss: 0.5113 - val_acc: 0.7970 - val_f1_m: 0.6114 - val_precision_m: 0.8284 - val_recall_m: 0.5138\n",
            "Epoch 5/8\n",
            "50/50 [==============================] - 4s 73ms/step - loss: 0.1930 - acc: 0.9332 - f1_m: 0.8948 - precision_m: 0.8873 - recall_m: 0.9185 - val_loss: 0.4052 - val_acc: 0.8274 - val_f1_m: 0.7192 - val_precision_m: 0.8005 - val_recall_m: 0.6708\n",
            "Epoch 6/8\n",
            "50/50 [==============================] - 4s 73ms/step - loss: 0.1250 - acc: 0.9593 - f1_m: 0.9338 - precision_m: 0.9255 - recall_m: 0.9487 - val_loss: 0.4657 - val_acc: 0.8376 - val_f1_m: 0.7237 - val_precision_m: 0.7888 - val_recall_m: 0.6959\n",
            "Epoch 7/8\n",
            "50/50 [==============================] - 4s 74ms/step - loss: 0.0959 - acc: 0.9682 - f1_m: 0.9488 - precision_m: 0.9449 - recall_m: 0.9566 - val_loss: 0.4175 - val_acc: 0.8401 - val_f1_m: 0.7417 - val_precision_m: 0.7704 - val_recall_m: 0.7404\n",
            "Epoch 8/8\n",
            "50/50 [==============================] - 4s 74ms/step - loss: 0.0767 - acc: 0.9765 - f1_m: 0.9626 - precision_m: 0.9631 - recall_m: 0.9668 - val_loss: 0.4350 - val_acc: 0.8376 - val_f1_m: 0.7430 - val_precision_m: 0.7516 - val_recall_m: 0.7559\n"
          ]
        }
      ]
    },
    {
      "cell_type": "code",
      "metadata": {
        "colab": {
          "base_uri": "https://localhost:8080/",
          "height": 585
        },
        "id": "VKfTAQg3Avt4",
        "outputId": "9fe6214c-15bc-4db2-c616-30d1f5291377"
      },
      "source": [
        "from matplotlib import pyplot as plt\n",
        "\n",
        "fig, axs = plt.subplots(2, 2, figsize=(15,8))\n",
        "axs[0, 0].plot(history.history['acc'], label='train')\n",
        "axs[0, 0].plot(history.history['val_acc'], label='val')\n",
        "axs[0, 0].set_title(\"Accuracy\")\n",
        "axs[0, 0].legend(prop={'size': 18})\n",
        "axs[1, 0].plot(history.history['f1_m'])\n",
        "axs[1, 0].plot(history.history['val_f1_m'])\n",
        "axs[1, 0].set_title(\"F1\")\n",
        "\n",
        "axs[0, 1].plot(history.history['recall_m'])\n",
        "axs[0, 1].plot(history.history['val_recall_m'])\n",
        "axs[0, 1].set_title(\"Recall\")\n",
        "\n",
        "axs[1, 1].plot(history.history['precision_m'])\n",
        "axs[1, 1].plot(history.history['val_precision_m'])\n",
        "axs[1, 1].set_title(\"Precision\")\n",
        "\n",
        "fig.tight_layout()"
      ],
      "execution_count": 101,
      "outputs": [
        {
          "output_type": "display_data",
          "data": {
            "image/png": "[encoded data removed]",
            "text/plain": [
              "<Figure size 1080x576 with 4 Axes>"
            ]
          },
          "metadata": {
            "needs_background": "light"
          }
        }
      ]
    },
    {
      "cell_type": "code",
      "metadata": {
        "id": "IdNfbKUUsNDm",
        "colab": {
          "base_uri": "https://localhost:8080/",
          "height": 265
        },
        "outputId": "4d1a506e-9ad6-462b-e076-9ffbda28eb87"
      },
      "source": [
        "plt.plot(history.history['loss'], label='loss')\n",
        "plt.plot(history.history['val_loss'], label='val_loss')\n",
        "plt.legend()\n",
        "plt.show()"
      ],
      "execution_count": 102,
      "outputs": [
        {
          "output_type": "display_data",
          "data": {
            "image/png": "[encoded data removed]",
            "text/plain": [
              "<Figure size 432x288 with 1 Axes>"
            ]
          },
          "metadata": {
            "needs_background": "light"
          }
        }
      ]
    },
    {
      "cell_type": "code",
      "metadata": {
        "id": "D_xcxznQWJ2d"
      },
      "source": [
        "newsVanillaAcc = history.history['val_acc']\n",
        "newsVanillaLoss = history.history['val_loss']\n",
        "newsVanillaF1 = history.history['val_f1_m']\n",
        "newsVanillaRecall = history.history['val_recall_m']"
      ],
      "execution_count": 103,
      "outputs": []
    },
    {
      "cell_type": "code",
      "metadata": {
        "id": "bkKk-jsW7pWW",
        "colab": {
          "base_uri": "https://localhost:8080/"
        },
        "outputId": "229240a9-c4ff-42ae-9555-7968e668a538"
      },
      "source": [
        "test_word = \"This is bad, negative, a tax, horrible. Please classify me as negative!\"\n",
        "tw = tokenizer.texts_to_sequences([test_word])\n",
        "tw"
      ],
      "execution_count": 104,
      "outputs": [
        {
          "output_type": "execute_result",
          "data": {
            "text/plain": [
              "[[80, 34, 332, 7, 472, 42, 332]]"
            ]
          },
          "metadata": {},
          "execution_count": 104
        }
      ]
    },
    {
      "cell_type": "code",
      "metadata": {
        "id": "WKSHH3yFwa9u",
        "colab": {
          "base_uri": "https://localhost:8080/"
        },
        "outputId": "a1e33c7b-ea52-4e1b-c4f2-8b6e931c9969"
      },
      "source": [
        "tw = pad_sequences(tw,maxlen=60)\n",
        "prediction = int(model.predict(tw).round().item())"
      ],
      "execution_count": 105,
      "outputs": [
        {
          "output_type": "stream",
          "name": "stdout",
          "text": [
            "WARNING:tensorflow:5 out of the last 7 calls to <function Model.make_predict_function.<locals>.predict_function at 0x7f600be6b440> triggered tf.function retracing. Tracing is expensive and the excessive number of tracings could be due to (1) creating @tf.function repeatedly in a loop, (2) passing tensors with different shapes, (3) passing Python objects instead of tensors. For (1), please define your @tf.function outside of the loop. For (2), @tf.function has experimental_relax_shapes=True option that relaxes argument shapes that can avoid unnecessary retracing. For (3), please refer to https://www.tensorflow.org/guide/function#controlling_retracing and https://www.tensorflow.org/api_docs/python/tf/function for  more details.\n"
          ]
        }
      ]
    },
    {
      "cell_type": "code",
      "metadata": {
        "id": "pxAnHterwlbE",
        "colab": {
          "base_uri": "https://localhost:8080/",
          "height": 35
        },
        "outputId": "efca62a5-6407-410c-daf9-b3799e762463"
      },
      "source": [
        "sentiment_label[1][prediction]"
      ],
      "execution_count": 106,
      "outputs": [
        {
          "output_type": "execute_result",
          "data": {
            "application/vnd.google.colaboratory.intrinsic+json": {
              "type": "string"
            },
            "text/plain": [
              "'positive'"
            ]
          },
          "metadata": {},
          "execution_count": 106
        }
      ]
    },
    {
      "cell_type": "code",
      "metadata": {
        "id": "c8P8rjlU_7tQ",
        "colab": {
          "base_uri": "https://localhost:8080/"
        },
        "outputId": "191044e9-a86c-4b29-ca43-fc81bbd10be9"
      },
      "source": [
        "test_word_2= \"I told she is not happy\"\n",
        "tw_2 = tokenizer.texts_to_sequences([test_word_2])\n",
        "tw_2"
      ],
      "execution_count": 107,
      "outputs": [
        {
          "output_type": "execute_result",
          "data": {
            "text/plain": [
              "[[428, 637, 1933, 34, 431, 962]]"
            ]
          },
          "metadata": {},
          "execution_count": 107
        }
      ]
    },
    {
      "cell_type": "code",
      "metadata": {
        "id": "DAxCxAw6JrYL"
      },
      "source": [
        "tw_2 = pad_sequences(tw_2,maxlen=60)\n",
        "prediction_2 = int(model.predict(tw_2).round().item())"
      ],
      "execution_count": 108,
      "outputs": []
    },
    {
      "cell_type": "code",
      "metadata": {
        "colab": {
          "base_uri": "https://localhost:8080/",
          "height": 35
        },
        "id": "1oh_M8z-PQF1",
        "outputId": "85e160bb-0789-48fb-aebd-133467283d88"
      },
      "source": [
        "sentiment_label[1][prediction_2]"
      ],
      "execution_count": 109,
      "outputs": [
        {
          "output_type": "execute_result",
          "data": {
            "application/vnd.google.colaboratory.intrinsic+json": {
              "type": "string"
            },
            "text/plain": [
              "'positive'"
            ]
          },
          "metadata": {},
          "execution_count": 109
        }
      ]
    },
    {
      "cell_type": "markdown",
      "metadata": {
        "id": "uLaIxhNHMZiT"
      },
      "source": [
        "# Probando con ´news_tokens´"
      ]
    },
    {
      "cell_type": "markdown",
      "metadata": {
        "id": "qLXpeeie-Cnq"
      },
      "source": [
        "A continuación generamos a partir de `news_tokens` una columna `news_tokens_str` que tiene las noticias con el texto preprocesado pero en string para luego cargarlas de esta forma que resulta conveniente."
      ]
    },
    {
      "cell_type": "code",
      "metadata": {
        "id": "csVoCRyz_mEf"
      },
      "source": [
        "df['news_tokens_str'] = df.news\n",
        "for i in range(df.news_tokens.size):\n",
        "    temp_list = df.news_tokens[i].split()\n",
        "    temp_str = \"\"\n",
        "    for j in temp_list:\n",
        "        temp_str += j.replace(\"[\", '').replace(\"]\", '').replace(\"'\", '').replace(\",\", ' ')\n",
        "    df.news_tokens_str.values[i] = temp_str"
      ],
      "execution_count": 110,
      "outputs": []
    },
    {
      "cell_type": "markdown",
      "metadata": {
        "id": "ClbMtxYt7HJJ"
      },
      "source": [
        "Se seleccionan las columnas de interés."
      ]
    },
    {
      "cell_type": "code",
      "metadata": {
        "id": "4tIQC7DEMgQg"
      },
      "source": [
        "news_proc = df[['feeling', 'news_tokens_str']]"
      ],
      "execution_count": 111,
      "outputs": []
    },
    {
      "cell_type": "code",
      "metadata": {
        "colab": {
          "base_uri": "https://localhost:8080/",
          "height": 297
        },
        "id": "xfFLlGVn8ZXT",
        "outputId": "d7929cae-cfd7-4f34-fb1d-ca8029131c12"
      },
      "source": [
        "news_proc.head(8)"
      ],
      "execution_count": 112,
      "outputs": [
        {
          "output_type": "execute_result",
          "data": {
            "text/html": [
              "<div>\n",
              "<style scoped>\n",
              "    .dataframe tbody tr th:only-of-type {\n",
              "        vertical-align: middle;\n",
              "    }\n",
              "\n",
              "    .dataframe tbody tr th {\n",
              "        vertical-align: top;\n",
              "    }\n",
              "\n",
              "    .dataframe thead th {\n",
              "        text-align: right;\n",
              "    }\n",
              "</style>\n",
              "<table border=\"1\" class=\"dataframe\">\n",
              "  <thead>\n",
              "    <tr style=\"text-align: right;\">\n",
              "      <th></th>\n",
              "      <th>feeling</th>\n",
              "      <th>news_tokens_str</th>\n",
              "    </tr>\n",
              "  </thead>\n",
              "  <tbody>\n",
              "    <tr>\n",
              "      <th>0</th>\n",
              "      <td>positive</td>\n",
              "      <td>early month company sign deal indiabased infor...</td>\n",
              "    </tr>\n",
              "    <tr>\n",
              "      <th>1</th>\n",
              "      <td>negative</td>\n",
              "      <td>say number deal become normalize moment theref...</td>\n",
              "    </tr>\n",
              "    <tr>\n",
              "      <th>2</th>\n",
              "      <td>positive</td>\n",
              "      <td>however broke give outperform recommendation s...</td>\n",
              "    </tr>\n",
              "    <tr>\n",
              "      <th>3</th>\n",
              "      <td>negative</td>\n",
              "      <td>finnish plumb heat system supplier uponor temp...</td>\n",
              "    </tr>\n",
              "    <tr>\n",
              "      <th>4</th>\n",
              "      <td>negative</td>\n",
              "      <td>adpnews sep finnish silicon wafer maker okmeti...</td>\n",
              "    </tr>\n",
              "    <tr>\n",
              "      <th>5</th>\n",
              "      <td>positive</td>\n",
              "      <td>net sale go yearonyear eur million affect busi...</td>\n",
              "    </tr>\n",
              "    <tr>\n",
              "      <th>6</th>\n",
              "      <td>positive</td>\n",
              "      <td>district court helsinki dismiss charge court f...</td>\n",
              "    </tr>\n",
              "    <tr>\n",
              "      <th>7</th>\n",
              "      <td>positive</td>\n",
              "      <td>net sale total eur mn eur mn correspond period</td>\n",
              "    </tr>\n",
              "  </tbody>\n",
              "</table>\n",
              "</div>"
            ],
            "text/plain": [
              "    feeling                                    news_tokens_str\n",
              "0  positive  early month company sign deal indiabased infor...\n",
              "1  negative  say number deal become normalize moment theref...\n",
              "2  positive  however broke give outperform recommendation s...\n",
              "3  negative  finnish plumb heat system supplier uponor temp...\n",
              "4  negative  adpnews sep finnish silicon wafer maker okmeti...\n",
              "5  positive  net sale go yearonyear eur million affect busi...\n",
              "6  positive  district court helsinki dismiss charge court f...\n",
              "7  positive     net sale total eur mn eur mn correspond period"
            ]
          },
          "metadata": {},
          "execution_count": 112
        }
      ]
    },
    {
      "cell_type": "code",
      "metadata": {
        "id": "AX0plD31NP8k"
      },
      "source": [
        "# Convert feeling to numeric\n",
        "sentiment_label_proc = news_proc.feeling.factorize()"
      ],
      "execution_count": 113,
      "outputs": []
    },
    {
      "cell_type": "markdown",
      "metadata": {
        "id": "59lTdqf2AeX0"
      },
      "source": [
        "Se tokenizan las noticias y se las tranforman a un numpy.array para poder ser luego ingresado dentro de la red neuronal. Utilizamos un maxlen de 40 ya que con los textos preprocesados la noticia con más palabras tiene 38 palabras."
      ]
    },
    {
      "cell_type": "code",
      "metadata": {
        "id": "A0CgIK7aNbGb"
      },
      "source": [
        "from tensorflow.keras.preprocessing.text import Tokenizer\n",
        "from tensorflow.keras.preprocessing.sequence import pad_sequences\n",
        "\n",
        "news = news_proc.news_tokens_str.values\n",
        "tokenizer = Tokenizer(num_words=5000)\n",
        "tokenizer.fit_on_texts(news)\n",
        "vocab_size_proc = len(tokenizer.word_index) + 1\n",
        "encoded_docs_proc = tokenizer.texts_to_sequences(news)\n",
        "padded_sequence_proc = pad_sequences(encoded_docs_proc, maxlen=40)"
      ],
      "execution_count": 114,
      "outputs": []
    },
    {
      "cell_type": "code",
      "metadata": {
        "colab": {
          "base_uri": "https://localhost:8080/"
        },
        "id": "MrO3aUi1XJRX",
        "outputId": "191a3573-f028-467c-9ce7-e40564062192"
      },
      "source": [
        "print(\"Palabras con las noticias preprocesadas:\", vocab_size_proc)"
      ],
      "execution_count": 115,
      "outputs": [
        {
          "output_type": "stream",
          "name": "stdout",
          "text": [
            "Palabras con las noticias preprocesadas: 4082\n"
          ]
        }
      ]
    },
    {
      "cell_type": "code",
      "metadata": {
        "colab": {
          "base_uri": "https://localhost:8080/"
        },
        "id": "pKTKfbHz2Cy5",
        "outputId": "0430d07f-0071-445e-9c97-fc0151e3a2dd"
      },
      "source": [
        "print(news[0])\n",
        "print(encoded_docs_proc[0])"
      ],
      "execution_count": 116,
      "outputs": [
        {
          "output_type": "stream",
          "name": "stdout",
          "text": [
            "early month company sign deal indiabased information technology service giant wipro technology transfer sell radio access relate rd activity berlin\n",
            "[44, 46, 3, 50, 205, 1932, 341, 42, 27, 1933, 1934, 42, 668, 206, 880, 1042, 669, 758, 533, 1935]\n"
          ]
        }
      ]
    },
    {
      "cell_type": "code",
      "metadata": {
        "id": "h2WvjZqE2Op6",
        "colab": {
          "base_uri": "https://localhost:8080/"
        },
        "outputId": "c473cfbc-ccff-4f72-9447-d3dbe76601ed"
      },
      "source": [
        "print(padded_sequence_proc[0])"
      ],
      "execution_count": 117,
      "outputs": [
        {
          "output_type": "stream",
          "name": "stdout",
          "text": [
            "[   0    0    0    0    0    0    0    0    0    0    0    0    0    0\n",
            "    0    0    0    0    0    0   44   46    3   50  205 1932  341   42\n",
            "   27 1933 1934   42  668  206  880 1042  669  758  533 1935]\n"
          ]
        }
      ]
    },
    {
      "cell_type": "code",
      "metadata": {
        "colab": {
          "base_uri": "https://localhost:8080/"
        },
        "id": "JWpvmHhw2YHo",
        "outputId": "997c27e6-774e-4377-ded3-7feab01d4ec5"
      },
      "source": [
        "# Build the model\n",
        "from tensorflow.keras.models import Sequential\n",
        "from tensorflow.keras.layers import LSTM,Dense, Dropout, SpatialDropout1D\n",
        "from tensorflow.keras.layers import Embedding\n",
        "\n",
        "embedding_vector_length = 32\n",
        "model = Sequential() \n",
        "model.add(Embedding(vocab_size_proc, embedding_vector_length, input_length=40) )\n",
        "model.add(SpatialDropout1D(0.25))\n",
        "model.add(LSTM(50, dropout=0.5, recurrent_dropout=0.5))\n",
        "model.add(Dropout(0.2))\n",
        "model.add(Dense(1, activation='sigmoid')) \n",
        "model.compile(loss='binary_crossentropy',optimizer='adam', metrics=['acc',f1_m,precision_m, recall_m])  \n",
        "print(model.summary()) \n"
      ],
      "execution_count": 118,
      "outputs": [
        {
          "output_type": "stream",
          "name": "stdout",
          "text": [
            "Model: \"sequential_5\"\n",
            "_________________________________________________________________\n",
            "Layer (type)                 Output Shape              Param #   \n",
            "=================================================================\n",
            "embedding_5 (Embedding)      (None, 40, 32)            130624    \n",
            "_________________________________________________________________\n",
            "spatial_dropout1d_5 (Spatial (None, 40, 32)            0         \n",
            "_________________________________________________________________\n",
            "lstm_5 (LSTM)                (None, 50)                16600     \n",
            "_________________________________________________________________\n",
            "dropout_5 (Dropout)          (None, 50)                0         \n",
            "_________________________________________________________________\n",
            "dense_5 (Dense)              (None, 1)                 51        \n",
            "=================================================================\n",
            "Total params: 147,275\n",
            "Trainable params: 147,275\n",
            "Non-trainable params: 0\n",
            "_________________________________________________________________\n",
            "None\n"
          ]
        }
      ]
    },
    {
      "cell_type": "code",
      "metadata": {
        "colab": {
          "base_uri": "https://localhost:8080/"
        },
        "id": "NQ1ptJv52lOg",
        "outputId": "f4ca9cae-1956-4b04-98c0-2723c89e5634"
      },
      "source": [
        "history_proc = model.fit(padded_sequence_proc,sentiment_label_proc[0],validation_split=0.2, epochs=8, batch_size=32)"
      ],
      "execution_count": 119,
      "outputs": [
        {
          "output_type": "stream",
          "name": "stdout",
          "text": [
            "Epoch 1/8\n",
            "50/50 [==============================] - 6s 56ms/step - loss: 0.6418 - acc: 0.6838 - f1_m: 0.0102 - precision_m: 0.0088 - recall_m: 0.0124 - val_loss: 0.6177 - val_acc: 0.6878 - val_f1_m: 0.0000e+00 - val_precision_m: 0.0000e+00 - val_recall_m: 0.0000e+00\n",
            "Epoch 2/8\n",
            "50/50 [==============================] - 2s 49ms/step - loss: 0.5828 - acc: 0.6959 - f1_m: 0.0179 - precision_m: 0.0500 - recall_m: 0.0125 - val_loss: 0.5704 - val_acc: 0.7056 - val_f1_m: 0.2459 - val_precision_m: 0.6282 - val_recall_m: 0.1582\n",
            "Epoch 3/8\n",
            "50/50 [==============================] - 2s 48ms/step - loss: 0.4266 - acc: 0.7996 - f1_m: 0.5507 - precision_m: 0.7572 - recall_m: 0.4656 - val_loss: 0.5948 - val_acc: 0.7640 - val_f1_m: 0.5123 - val_precision_m: 0.7485 - val_recall_m: 0.4157\n",
            "Epoch 4/8\n",
            "50/50 [==============================] - 2s 48ms/step - loss: 0.2773 - acc: 0.8874 - f1_m: 0.7905 - precision_m: 0.8214 - recall_m: 0.7758 - val_loss: 0.5302 - val_acc: 0.7970 - val_f1_m: 0.6804 - val_precision_m: 0.6646 - val_recall_m: 0.7237\n",
            "Epoch 5/8\n",
            "50/50 [==============================] - 2s 49ms/step - loss: 0.1999 - acc: 0.9256 - f1_m: 0.8800 - precision_m: 0.8640 - recall_m: 0.9073 - val_loss: 0.4942 - val_acc: 0.8198 - val_f1_m: 0.7137 - val_precision_m: 0.7335 - val_recall_m: 0.7230\n",
            "Epoch 6/8\n",
            "50/50 [==============================] - 2s 48ms/step - loss: 0.1775 - acc: 0.9383 - f1_m: 0.8875 - precision_m: 0.8713 - recall_m: 0.9132 - val_loss: 0.4634 - val_acc: 0.8249 - val_f1_m: 0.7140 - val_precision_m: 0.7359 - val_recall_m: 0.7237\n",
            "Epoch 7/8\n",
            "50/50 [==============================] - 2s 48ms/step - loss: 0.1378 - acc: 0.9497 - f1_m: 0.9162 - precision_m: 0.8934 - recall_m: 0.9498 - val_loss: 0.4731 - val_acc: 0.8122 - val_f1_m: 0.6909 - val_precision_m: 0.7190 - val_recall_m: 0.6952\n",
            "Epoch 8/8\n",
            "50/50 [==============================] - 2s 47ms/step - loss: 0.1230 - acc: 0.9510 - f1_m: 0.9183 - precision_m: 0.9064 - recall_m: 0.9379 - val_loss: 0.5838 - val_acc: 0.8173 - val_f1_m: 0.6816 - val_precision_m: 0.7583 - val_recall_m: 0.6544\n"
          ]
        }
      ]
    },
    {
      "cell_type": "code",
      "metadata": {
        "colab": {
          "base_uri": "https://localhost:8080/",
          "height": 585
        },
        "id": "5jad-KiaNIB1",
        "outputId": "cd70f5ac-08d7-4fb9-cb26-37b5959ef5a7"
      },
      "source": [
        "fig, axs = plt.subplots(2, 2, figsize=(15,8))\n",
        "axs[0, 0].plot(history_proc.history['acc'], label='train')\n",
        "axs[0, 0].plot(history_proc.history['val_acc'], label='val')\n",
        "axs[0, 0].set_title(\"Accuracy\")\n",
        "axs[0, 0].legend(prop={'size': 18})\n",
        "\n",
        "axs[1, 0].plot(history_proc.history['f1_m'])\n",
        "axs[1, 0].plot(history_proc.history['val_f1_m'])\n",
        "axs[1, 0].set_title(\"F1\")\n",
        "\n",
        "axs[0, 1].plot(history_proc.history['recall_m'])\n",
        "axs[0, 1].plot(history_proc.history['val_recall_m'])\n",
        "axs[0, 1].set_title(\"Recall\")\n",
        "\n",
        "axs[1, 1].plot(history_proc.history['precision_m'])\n",
        "axs[1, 1].plot(history_proc.history['val_precision_m'])\n",
        "axs[1, 1].set_title(\"Precision\")\n",
        "\n",
        "fig.tight_layout()"
      ],
      "execution_count": 120,
      "outputs": [
        {
          "output_type": "display_data",
          "data": {
            "image/png": "[encoded data removed]",
            "text/plain": [
              "<Figure size 1080x576 with 4 Axes>"
            ]
          },
          "metadata": {
            "needs_background": "light"
          }
        }
      ]
    },
    {
      "cell_type": "code",
      "metadata": {
        "colab": {
          "base_uri": "https://localhost:8080/",
          "height": 265
        },
        "id": "t1zqu5Ki3X4k",
        "outputId": "562e7f27-9ed8-4832-d7d6-3eeb38f4fcb1"
      },
      "source": [
        "plt.plot(history_proc.history['loss'], label='loss')\n",
        "plt.plot(history_proc.history['val_loss'], label='val_loss')\n",
        "plt.legend()\n",
        "plt.show()"
      ],
      "execution_count": 121,
      "outputs": [
        {
          "output_type": "display_data",
          "data": {
            "image/png": "[encoded data removed]",
            "text/plain": [
              "<Figure size 432x288 with 1 Axes>"
            ]
          },
          "metadata": {
            "needs_background": "light"
          }
        }
      ]
    },
    {
      "cell_type": "code",
      "metadata": {
        "id": "ndNjTa2IUhYJ"
      },
      "source": [
        "tokensNewsAcc = history_proc.history['val_acc']\n",
        "tokensNewsLoss = history_proc.history['val_loss']\n",
        "tokensNewsF1 = history_proc.history['val_f1_m']\n",
        "tokensNewsRecall = history_proc.history['val_recall_m']"
      ],
      "execution_count": 122,
      "outputs": []
    },
    {
      "cell_type": "code",
      "metadata": {
        "id": "okt6y7gZEoEC",
        "colab": {
          "base_uri": "https://localhost:8080/"
        },
        "outputId": "1017ec97-50c6-4a75-9655-4b95f502ecc2"
      },
      "source": [
        "test_word = \"This is bad, negative, a tax, horrible. Please classify me as negative!\"\n",
        "tw = tokenizer.texts_to_sequences([test_word])\n",
        "tw"
      ],
      "execution_count": 123,
      "outputs": [
        {
          "output_type": "execute_result",
          "data": {
            "text/plain": [
              "[[3740, 244, 189, 391, 244]]"
            ]
          },
          "metadata": {},
          "execution_count": 123
        }
      ]
    },
    {
      "cell_type": "code",
      "metadata": {
        "colab": {
          "base_uri": "https://localhost:8080/"
        },
        "id": "NrhZOBIYEpAa",
        "outputId": "90a62ee4-0eaa-4187-afc7-bd48a7fd638d"
      },
      "source": [
        "tw = pad_sequences(tw,maxlen=40)\n",
        "prediction = int(model.predict(tw).round().item())"
      ],
      "execution_count": 124,
      "outputs": [
        {
          "output_type": "stream",
          "name": "stdout",
          "text": [
            "WARNING:tensorflow:6 out of the last 9 calls to <function Model.make_predict_function.<locals>.predict_function at 0x7f5fff8a54d0> triggered tf.function retracing. Tracing is expensive and the excessive number of tracings could be due to (1) creating @tf.function repeatedly in a loop, (2) passing tensors with different shapes, (3) passing Python objects instead of tensors. For (1), please define your @tf.function outside of the loop. For (2), @tf.function has experimental_relax_shapes=True option that relaxes argument shapes that can avoid unnecessary retracing. For (3), please refer to https://www.tensorflow.org/guide/function#controlling_retracing and https://www.tensorflow.org/api_docs/python/tf/function for  more details.\n"
          ]
        }
      ]
    },
    {
      "cell_type": "code",
      "metadata": {
        "colab": {
          "base_uri": "https://localhost:8080/",
          "height": 35
        },
        "id": "6CfGHa6nEwcz",
        "outputId": "20555938-a47f-4b4d-de16-9aeeda208168"
      },
      "source": [
        "sentiment_label_proc[1][prediction]"
      ],
      "execution_count": 125,
      "outputs": [
        {
          "output_type": "execute_result",
          "data": {
            "application/vnd.google.colaboratory.intrinsic+json": {
              "type": "string"
            },
            "text/plain": [
              "'positive'"
            ]
          },
          "metadata": {},
          "execution_count": 125
        }
      ]
    },
    {
      "cell_type": "markdown",
      "metadata": {
        "id": "65f2jpEyQrrw"
      },
      "source": [
        "Suponiendo que tenemos libertad en el consumo de recursos, utilizaremos para comparar los modelos la 6ta época del primero de ellos (con noticias sin preprocesamiento) y la 3ra época del modelo que predijo sobre los tokens procesados. Los valores son evaluados sobre el conjunto de Validación.\n"
      ]
    },
    {
      "cell_type": "code",
      "metadata": {
        "colab": {
          "base_uri": "https://localhost:8080/"
        },
        "id": "OjAZuRkcUY-7",
        "outputId": "78bf3e27-ac88-4cf9-a63a-12a37b98e863"
      },
      "source": [
        "print(\"---------------------------------------------------------------\")\n",
        "print(\"                       |\", \"Val Loss\", \"|\", \"Accuracy\", \"|\", \"F1\", \"    |\", \"Recall\", \"|\")\n",
        "print(\"---------------------------------------------------------------|\")\n",
        "print(\"Model News Vanilla    \", \"|\", np.round(newsVanillaLoss[7],3), \"   |\", np.round(newsVanillaAcc[7],3), \"   |\", np.round(newsVanillaF1[7],3), \" |\", np.round(newsVanillaRecall[7],3), \" |\")\n",
        "print(\"Model with Tokens News\", \"|\", np.round(tokensNewsLoss[7],3), \"   |\", np.round(tokensNewsAcc[7],3), \"   |\", np.round(tokensNewsF1[7],3), \" |\", np.round(tokensNewsRecall[7], 3),\" |\" )\n",
        "print(\"---------------------------------------------------------------\")"
      ],
      "execution_count": 126,
      "outputs": [
        {
          "output_type": "stream",
          "name": "stdout",
          "text": [
            "---------------------------------------------------------------\n",
            "                       | Val Loss | Accuracy | F1     | Recall |\n",
            "---------------------------------------------------------------|\n",
            "Model News Vanilla     | 0.435    | 0.838    | 0.743  | 0.756  |\n",
            "Model with Tokens News | 0.584    | 0.817    | 0.682  | 0.654  |\n",
            "---------------------------------------------------------------\n"
          ]
        }
      ]
    },
    {
      "cell_type": "markdown",
      "metadata": {
        "id": "Az1peTPmNfPd"
      },
      "source": [
        "## Conclusiones\n",
        "\n",
        "Se obtuvieron mejores resultados en las diferentes métricas para el modelo entrenado con las noticias sin procesar. Esto puede deberse a que este datset posee _stopwords_ que podrían ser necesarios para la clasificación de los sentimientos. En este sentido, algunos autores mencionan que dependiendo del objetivo de la clasificación puede no ser conveniente la remoción de  _stopwords_ Por lo que se sugiere, realizar el entrenamiento y evaluación del modelo con y sin _stopwords_ y ver las diferencia en los resultados, tal como se realizó previamente. En el caso particular de la clasificación de los sentimientos, suele ocurrir que la remoción de _stopwords_ no suele dar buenos resultados dado que los mismos pueden ayudar a otorgar sentido y significado a la hora de predecir un documento a un cierto sentimiento (ver [este artículo](https://medium.com/@limavallantin/why-is-removing-stop-words-not-always-a-good-idea-c8d35bd77214)). De acuerdo a los resultados obtenidos, conviene realizar las predicciones de sentimientos de noticias con el modelo entrenado con noticias sin procesar. Además quedaría pendiente analizar si los resultados pueden ser mejorados utilizando una nueva lista de _stopwords_ dadas por spaCy, Gensim o incluso generar una lista propia (ver [este artículo](https://towardsdatascience.com/text-pre-processing-stop-words-removal-using-different-libraries-f20bac19929a))\n",
        "\n",
        "Respecto a los valores de las métricas obtenidos se observa que para ambos casos, el valor de accuracy es similar a diferencia del resto de las métricas. Para la clasificación con las noticias procesadas (´news_tokens´) se obtuvieron bajos valores de F1, recall y precision, lo cual indicaría la dificultad en clasificar las noticias con sentimiento negativo que es la clase minoritaria. El valor de accuracy no varía significativamente probablemente debido a que esta métrica le da mayor importancia a la clase mayoritaria que en este caso es el sentimiento positivo."
      ]
    }
  ]
}